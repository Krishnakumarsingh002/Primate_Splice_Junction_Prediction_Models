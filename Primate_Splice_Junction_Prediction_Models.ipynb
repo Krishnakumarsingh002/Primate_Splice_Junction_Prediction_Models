{
 "cells": [
  {
   "cell_type": "markdown",
   "metadata": {},
   "source": [
    "\n",
    "### Krishna Kumar Singh\n"
   ]
  },
  {
   "cell_type": "markdown",
   "metadata": {},
   "source": [
    "### Data Set used in Q-1: Molecular Biology (Splice-junction Gene Sequences) Data Set"
   ]
  },
  {
   "cell_type": "markdown",
   "metadata": {},
   "source": [
    "## Q1. (i)  Answer the following questions about the data.\n",
    "## 1)  What the data is about?\n",
    "Ans- Data Set Information:\n",
    "\n",
    "Title of Database: Primate splice-junction gene sequences (DNA) with associated imperfect domain theory.\n",
    "\n",
    "This dataset consists of DNA sequences from primate species and is used to predict whether a given position in a DNA sequence corresponds to an exon-intron or intron-exon boundary. The task involves recognizing the boundaries between exons and introns, which are important for understanding the process of protein creation in higher organisms.\n",
    "\n",
    "The dataset includes a window of 60 nucleotides, and the task is to determine whether the position in the middle of the window corresponds to an intron-exon or exon-intron boundary. The possible predictions are \"intron -> exon\" boundary (ie), \"exon -> intron\" boundary (ei), or neither. The dataset includes imperfect domain theory, which is a set of rules for recognizing exon-intron boundaries based on features of the DNA sequence.\n",
    "\n",
    "This dataset can be useful for developing algorithms that can accurately predict exon-intron boundaries in DNA sequences, which is important for understanding the gene splicing process and for identifying genetic variations that may contribute to disease.\n",
    "\n",
    "THE PREDICTION:\n",
    "\n",
    "Given a position in the middle of a window 60 DNA sequence elements (called \"nucleotides\" or \"base-pairs\"), decide if this is a\n",
    "\n",
    "\ta) \"intron -> exon\" boundary (ie) [These are sometimes called \"donors\"]\n",
    "    \n",
    "\tb) \"exon -> intron\" boundary (ei) [These are sometimes called \"acceptors\"]\n",
    "    \n",
    "\tc) neither \n",
    "\n"
   ]
  },
  {
   "cell_type": "markdown",
   "metadata": {},
   "source": [
    " importing libraries"
   ]
  },
  {
   "cell_type": "code",
   "execution_count": 57,
   "metadata": {},
   "outputs": [],
   "source": [
    "#import the necessary packages\n",
    "import pandas as pd\n",
    "import numpy as np\n",
    "import matplotlib.pyplot as plt"
   ]
  },
  {
   "cell_type": "code",
   "execution_count": 58,
   "metadata": {
    "scrolled": true
   },
   "outputs": [],
   "source": [
    "#loading the data\n",
    "url=\"https://archive.ics.uci.edu/ml/machine-learning-databases/molecular-biology/splice-junction-gene-sequences/splice.data\"\n",
    "colnames=list(range(3))\n",
    "df = pd.read_csv(url,encoding = 'utf8',names=colnames, header=None)\n",
    "X = df.values[:,2]\n",
    "Y = df.values[:,0]\n",
    "missing_data =  [[i[0],i[1]] for i in zip(X,Y) if (('D' in i[0]) or ('N' in i[0]) or ('S' in i[0]) or ('R' in i[0]))]\n",
    "data = [[i[0],i[1]] for i in zip(X,Y) if (('D' not in i[0]) and ('N' not in i[0]) and ('S' not in i[0]) and ('R' not in i[0]))]\n",
    "\n",
    "\n",
    "\n",
    "\n"
   ]
  },
  {
   "cell_type": "code",
   "execution_count": 59,
   "metadata": {},
   "outputs": [
    {
     "name": "stdout",
     "output_type": "stream",
     "text": [
      "percentage of data missing =  0.47  %\n"
     ]
    }
   ],
   "source": [
    "#Analysising Missing values\n",
    "perc_missing = round((len(missing_data)*100)/len(X),2)\n",
    "print(\"percentage of data missing = \",perc_missing,\" %\")\n"
   ]
  },
  {
   "cell_type": "markdown",
   "metadata": {},
   "source": [
    "As the proportion of data missing is very less, we are neglected the missing data instances."
   ]
  },
  {
   "cell_type": "code",
   "execution_count": 60,
   "metadata": {},
   "outputs": [
    {
     "name": "stdout",
     "output_type": "stream",
     "text": [
      "Number of instances in data =  3175\n",
      "Number of features in each data =  60\n",
      "Unique classes in data =  ['EI' 'IE' 'N']\n",
      "Number of classes =  3\n",
      "\n",
      "First five instances of dataframe:\n"
     ]
    },
    {
     "data": {
      "text/html": [
       "<div>\n",
       "<style scoped>\n",
       "    .dataframe tbody tr th:only-of-type {\n",
       "        vertical-align: middle;\n",
       "    }\n",
       "\n",
       "    .dataframe tbody tr th {\n",
       "        vertical-align: top;\n",
       "    }\n",
       "\n",
       "    .dataframe thead th {\n",
       "        text-align: right;\n",
       "    }\n",
       "</style>\n",
       "<table border=\"1\" class=\"dataframe\">\n",
       "  <thead>\n",
       "    <tr style=\"text-align: right;\">\n",
       "      <th></th>\n",
       "      <th>0</th>\n",
       "      <th>1</th>\n",
       "      <th>2</th>\n",
       "      <th>3</th>\n",
       "      <th>4</th>\n",
       "      <th>5</th>\n",
       "      <th>6</th>\n",
       "      <th>7</th>\n",
       "      <th>8</th>\n",
       "      <th>9</th>\n",
       "      <th>...</th>\n",
       "      <th>51</th>\n",
       "      <th>52</th>\n",
       "      <th>53</th>\n",
       "      <th>54</th>\n",
       "      <th>55</th>\n",
       "      <th>56</th>\n",
       "      <th>57</th>\n",
       "      <th>58</th>\n",
       "      <th>59</th>\n",
       "      <th>class</th>\n",
       "    </tr>\n",
       "  </thead>\n",
       "  <tbody>\n",
       "    <tr>\n",
       "      <th>0</th>\n",
       "      <td>C</td>\n",
       "      <td>C</td>\n",
       "      <td>A</td>\n",
       "      <td>G</td>\n",
       "      <td>C</td>\n",
       "      <td>T</td>\n",
       "      <td>G</td>\n",
       "      <td>C</td>\n",
       "      <td>A</td>\n",
       "      <td>T</td>\n",
       "      <td>...</td>\n",
       "      <td>G</td>\n",
       "      <td>C</td>\n",
       "      <td>C</td>\n",
       "      <td>A</td>\n",
       "      <td>G</td>\n",
       "      <td>T</td>\n",
       "      <td>C</td>\n",
       "      <td>T</td>\n",
       "      <td>G</td>\n",
       "      <td>EI</td>\n",
       "    </tr>\n",
       "    <tr>\n",
       "      <th>1</th>\n",
       "      <td>A</td>\n",
       "      <td>G</td>\n",
       "      <td>A</td>\n",
       "      <td>C</td>\n",
       "      <td>C</td>\n",
       "      <td>C</td>\n",
       "      <td>G</td>\n",
       "      <td>C</td>\n",
       "      <td>C</td>\n",
       "      <td>G</td>\n",
       "      <td>...</td>\n",
       "      <td>T</td>\n",
       "      <td>G</td>\n",
       "      <td>C</td>\n",
       "      <td>C</td>\n",
       "      <td>C</td>\n",
       "      <td>C</td>\n",
       "      <td>C</td>\n",
       "      <td>G</td>\n",
       "      <td>C</td>\n",
       "      <td>EI</td>\n",
       "    </tr>\n",
       "    <tr>\n",
       "      <th>2</th>\n",
       "      <td>G</td>\n",
       "      <td>A</td>\n",
       "      <td>G</td>\n",
       "      <td>G</td>\n",
       "      <td>T</td>\n",
       "      <td>G</td>\n",
       "      <td>A</td>\n",
       "      <td>A</td>\n",
       "      <td>G</td>\n",
       "      <td>G</td>\n",
       "      <td>...</td>\n",
       "      <td>A</td>\n",
       "      <td>C</td>\n",
       "      <td>G</td>\n",
       "      <td>G</td>\n",
       "      <td>G</td>\n",
       "      <td>G</td>\n",
       "      <td>A</td>\n",
       "      <td>T</td>\n",
       "      <td>G</td>\n",
       "      <td>EI</td>\n",
       "    </tr>\n",
       "    <tr>\n",
       "      <th>3</th>\n",
       "      <td>G</td>\n",
       "      <td>G</td>\n",
       "      <td>G</td>\n",
       "      <td>C</td>\n",
       "      <td>T</td>\n",
       "      <td>G</td>\n",
       "      <td>C</td>\n",
       "      <td>G</td>\n",
       "      <td>T</td>\n",
       "      <td>T</td>\n",
       "      <td>...</td>\n",
       "      <td>G</td>\n",
       "      <td>T</td>\n",
       "      <td>T</td>\n",
       "      <td>T</td>\n",
       "      <td>T</td>\n",
       "      <td>C</td>\n",
       "      <td>C</td>\n",
       "      <td>C</td>\n",
       "      <td>C</td>\n",
       "      <td>EI</td>\n",
       "    </tr>\n",
       "    <tr>\n",
       "      <th>4</th>\n",
       "      <td>G</td>\n",
       "      <td>C</td>\n",
       "      <td>T</td>\n",
       "      <td>C</td>\n",
       "      <td>A</td>\n",
       "      <td>G</td>\n",
       "      <td>C</td>\n",
       "      <td>C</td>\n",
       "      <td>C</td>\n",
       "      <td>C</td>\n",
       "      <td>...</td>\n",
       "      <td>C</td>\n",
       "      <td>T</td>\n",
       "      <td>T</td>\n",
       "      <td>G</td>\n",
       "      <td>A</td>\n",
       "      <td>C</td>\n",
       "      <td>C</td>\n",
       "      <td>C</td>\n",
       "      <td>T</td>\n",
       "      <td>EI</td>\n",
       "    </tr>\n",
       "  </tbody>\n",
       "</table>\n",
       "<p>5 rows × 61 columns</p>\n",
       "</div>"
      ],
      "text/plain": [
       "   0  1  2  3  4  5  6  7  8  9  ... 51 52 53 54 55 56 57 58 59 class\n",
       "0  C  C  A  G  C  T  G  C  A  T  ...  G  C  C  A  G  T  C  T  G    EI\n",
       "1  A  G  A  C  C  C  G  C  C  G  ...  T  G  C  C  C  C  C  G  C    EI\n",
       "2  G  A  G  G  T  G  A  A  G  G  ...  A  C  G  G  G  G  A  T  G    EI\n",
       "3  G  G  G  C  T  G  C  G  T  T  ...  G  T  T  T  T  C  C  C  C    EI\n",
       "4  G  C  T  C  A  G  C  C  C  C  ...  C  T  T  G  A  C  C  C  T    EI\n",
       "\n",
       "[5 rows x 61 columns]"
      ]
     },
     "execution_count": 60,
     "metadata": {},
     "output_type": "execute_result"
    }
   ],
   "source": [
    "#Updating the dataframe\n",
    "\n",
    "X = np.array(data)[:,0]\n",
    "Y = np.array(data)[:,1]\n",
    "X = [[j for j in (i.lstrip())] for i in X]\n",
    "print(\"Number of instances in data = \", len(X))\n",
    "print(\"Number of features in each data = \",len(X[0]))\n",
    "df = pd.DataFrame(X)\n",
    "df['class'] = Y\n",
    "lables = df['class'].unique()\n",
    "print(\"Unique classes in data = \",lables)\n",
    "print(\"Number of classes = \", len(lables))\n",
    "print()\n",
    "print(\"First five instances of dataframe:\")\n",
    "df.head()"
   ]
  },
  {
   "cell_type": "code",
   "execution_count": 61,
   "metadata": {},
   "outputs": [
    {
     "name": "stdout",
     "output_type": "stream",
     "text": [
      "The number of duplicate rows are  184\n",
      "The number of rows after removing duplicates are  2991\n"
     ]
    }
   ],
   "source": [
    "# Checking for duplicates\n",
    "print(\"The number of duplicate rows are \", df.duplicated().sum())\n",
    "\n",
    "# Removing the duplicates rows\n",
    "df.drop_duplicates(inplace = True)\n",
    "print(\"The number of rows after removing duplicates are \", len(df))\n",
    "\n"
   ]
  },
  {
   "cell_type": "code",
   "execution_count": 15,
   "metadata": {},
   "outputs": [
    {
     "name": "stdout",
     "output_type": "stream",
     "text": [
      "[['C' 'C' 'A' 'G' 'C' 'T' 'G' 'C' 'A' 'T' 'C' 'A' 'C' 'A' 'G' 'G' 'A' 'G'\n",
      "  'G' 'C' 'C' 'A' 'G' 'C' 'G' 'A' 'G' 'C' 'A' 'G' 'G' 'T' 'C' 'T' 'G' 'T'\n",
      "  'T' 'C' 'C' 'A' 'A' 'G' 'G' 'G' 'C' 'C' 'T' 'T' 'C' 'G' 'A' 'G' 'C' 'C'\n",
      "  'A' 'G' 'T' 'C' 'T' 'G']\n",
      " ['A' 'G' 'A' 'C' 'C' 'C' 'G' 'C' 'C' 'G' 'G' 'G' 'A' 'G' 'G' 'C' 'G' 'G'\n",
      "  'A' 'G' 'G' 'A' 'C' 'C' 'T' 'G' 'C' 'A' 'G' 'G' 'G' 'T' 'G' 'A' 'G' 'C'\n",
      "  'C' 'C' 'C' 'A' 'C' 'C' 'G' 'C' 'C' 'C' 'C' 'T' 'C' 'C' 'G' 'T' 'G' 'C'\n",
      "  'C' 'C' 'C' 'C' 'G' 'C']\n",
      " ['G' 'A' 'G' 'G' 'T' 'G' 'A' 'A' 'G' 'G' 'A' 'C' 'G' 'T' 'C' 'C' 'T' 'T'\n",
      "  'C' 'C' 'C' 'C' 'A' 'G' 'G' 'A' 'G' 'C' 'C' 'G' 'G' 'T' 'G' 'A' 'G' 'A'\n",
      "  'A' 'G' 'C' 'G' 'C' 'A' 'G' 'T' 'C' 'G' 'G' 'G' 'G' 'G' 'C' 'A' 'C' 'G'\n",
      "  'G' 'G' 'G' 'A' 'T' 'G']\n",
      " ['G' 'G' 'G' 'C' 'T' 'G' 'C' 'G' 'T' 'T' 'G' 'C' 'T' 'G' 'G' 'T' 'C' 'A'\n",
      "  'C' 'A' 'T' 'T' 'C' 'C' 'T' 'G' 'G' 'C' 'A' 'G' 'G' 'T' 'A' 'T' 'G' 'G'\n",
      "  'G' 'G' 'C' 'G' 'G' 'G' 'G' 'C' 'T' 'T' 'G' 'C' 'T' 'C' 'G' 'G' 'T' 'T'\n",
      "  'T' 'T' 'C' 'C' 'C' 'C']\n",
      " ['G' 'C' 'T' 'C' 'A' 'G' 'C' 'C' 'C' 'C' 'C' 'A' 'G' 'G' 'T' 'C' 'A' 'C'\n",
      "  'C' 'C' 'A' 'G' 'G' 'A' 'A' 'C' 'T' 'G' 'A' 'C' 'G' 'T' 'G' 'A' 'G' 'T'\n",
      "  'G' 'T' 'C' 'C' 'C' 'C' 'A' 'T' 'C' 'C' 'C' 'G' 'G' 'C' 'C' 'C' 'T' 'T'\n",
      "  'G' 'A' 'C' 'C' 'C' 'T']]\n",
      "['EI' 'EI' 'EI' 'EI' 'EI']\n"
     ]
    }
   ],
   "source": [
    "# Updating X and Y\n",
    "X = df.values[:,0:-1]\n",
    "Y  = df.values[:,-1]\n",
    "print(X[0:5])\n",
    "print(Y[0:5])"
   ]
  },
  {
   "cell_type": "code",
   "execution_count": 62,
   "metadata": {
    "scrolled": true
   },
   "outputs": [
    {
     "name": "stdout",
     "output_type": "stream",
     "text": [
      "           0     1     2     3     4     5     6     7     8     9  ...    51  \\\n",
      "count   2991  2991  2991  2991  2991  2991  2991  2991  2991  2991  ...  2991   \n",
      "unique     4     4     4     4     4     4     4     4     4     4  ...     4   \n",
      "top        G     C     C     C     C     C     C     C     C     T  ...     G   \n",
      "freq     821   795   817   816   803   842   804   820   837   784  ...   826   \n",
      "\n",
      "          52    53    54    55    56    57    58    59 class  \n",
      "count   2991  2991  2991  2991  2991  2991  2991  2991  2991  \n",
      "unique     4     4     4     4     4     4     4     4     3  \n",
      "top        G     G     G     G     G     G     C     G     N  \n",
      "freq     809   864   811   779   853   808   806   875  1647  \n",
      "\n",
      "[4 rows x 61 columns]\n",
      "0        0\n",
      "1        0\n",
      "2        0\n",
      "3        0\n",
      "4        0\n",
      "        ..\n",
      "56       0\n",
      "57       0\n",
      "58       0\n",
      "59       0\n",
      "class    0\n",
      "Length: 61, dtype: int64\n",
      "<class 'pandas.core.frame.DataFrame'>\n",
      "Int64Index: 2991 entries, 0 to 3174\n",
      "Data columns (total 61 columns):\n",
      " #   Column  Non-Null Count  Dtype \n",
      "---  ------  --------------  ----- \n",
      " 0   0       2991 non-null   object\n",
      " 1   1       2991 non-null   object\n",
      " 2   2       2991 non-null   object\n",
      " 3   3       2991 non-null   object\n",
      " 4   4       2991 non-null   object\n",
      " 5   5       2991 non-null   object\n",
      " 6   6       2991 non-null   object\n",
      " 7   7       2991 non-null   object\n",
      " 8   8       2991 non-null   object\n",
      " 9   9       2991 non-null   object\n",
      " 10  10      2991 non-null   object\n",
      " 11  11      2991 non-null   object\n",
      " 12  12      2991 non-null   object\n",
      " 13  13      2991 non-null   object\n",
      " 14  14      2991 non-null   object\n",
      " 15  15      2991 non-null   object\n",
      " 16  16      2991 non-null   object\n",
      " 17  17      2991 non-null   object\n",
      " 18  18      2991 non-null   object\n",
      " 19  19      2991 non-null   object\n",
      " 20  20      2991 non-null   object\n",
      " 21  21      2991 non-null   object\n",
      " 22  22      2991 non-null   object\n",
      " 23  23      2991 non-null   object\n",
      " 24  24      2991 non-null   object\n",
      " 25  25      2991 non-null   object\n",
      " 26  26      2991 non-null   object\n",
      " 27  27      2991 non-null   object\n",
      " 28  28      2991 non-null   object\n",
      " 29  29      2991 non-null   object\n",
      " 30  30      2991 non-null   object\n",
      " 31  31      2991 non-null   object\n",
      " 32  32      2991 non-null   object\n",
      " 33  33      2991 non-null   object\n",
      " 34  34      2991 non-null   object\n",
      " 35  35      2991 non-null   object\n",
      " 36  36      2991 non-null   object\n",
      " 37  37      2991 non-null   object\n",
      " 38  38      2991 non-null   object\n",
      " 39  39      2991 non-null   object\n",
      " 40  40      2991 non-null   object\n",
      " 41  41      2991 non-null   object\n",
      " 42  42      2991 non-null   object\n",
      " 43  43      2991 non-null   object\n",
      " 44  44      2991 non-null   object\n",
      " 45  45      2991 non-null   object\n",
      " 46  46      2991 non-null   object\n",
      " 47  47      2991 non-null   object\n",
      " 48  48      2991 non-null   object\n",
      " 49  49      2991 non-null   object\n",
      " 50  50      2991 non-null   object\n",
      " 51  51      2991 non-null   object\n",
      " 52  52      2991 non-null   object\n",
      " 53  53      2991 non-null   object\n",
      " 54  54      2991 non-null   object\n",
      " 55  55      2991 non-null   object\n",
      " 56  56      2991 non-null   object\n",
      " 57  57      2991 non-null   object\n",
      " 58  58      2991 non-null   object\n",
      " 59  59      2991 non-null   object\n",
      " 60  class   2991 non-null   object\n",
      "dtypes: object(61)\n",
      "memory usage: 1.4+ MB\n",
      "None\n"
     ]
    }
   ],
   "source": [
    "print(df.describe(include='all'))\n",
    "# Checking if there are missing values\n",
    "print(df.isnull().sum())\n",
    "print(df.info())"
   ]
  },
  {
   "cell_type": "markdown",
   "metadata": {},
   "source": [
    "There are no missing values present in this updated dataset."
   ]
  },
  {
   "cell_type": "markdown",
   "metadata": {},
   "source": [
    "## Data Visualization"
   ]
  },
  {
   "cell_type": "code",
   "execution_count": 63,
   "metadata": {},
   "outputs": [
    {
     "name": "stdout",
     "output_type": "stream",
     "text": [
      "['EI' 'IE' 'N'] [ 762  765 1648]\n",
      "3175\n"
     ]
    },
    {
     "data": {
      "image/png": "[encoded data removed]",
      "text/plain": [
       "<Figure size 432x288 with 1 Axes>"
      ]
     },
     "metadata": {
      "needs_background": "light"
     },
     "output_type": "display_data"
    }
   ],
   "source": [
    "\n",
    "ele, cnts = np.unique(Y,return_counts=True)\n",
    "print(ele,cnts)\n",
    "plt.bar(ele,cnts)\n",
    "totcnts = np.sum(cnts)\n",
    "print(totcnts)\n",
    "plt.title(\"Class Distribution\")\n",
    "for index, value in enumerate(cnts):\n",
    "    plt.text(index, value,\n",
    "             value)\n",
    "    plt.text(index,value-400,str(round((value*100)/totcnts,2))+'%')\n",
    "plt.show()"
   ]
  },
  {
   "cell_type": "code",
   "execution_count": 64,
   "metadata": {},
   "outputs": [
    {
     "data": {
      "image/png": "[encoded data removed]",
      "text/plain": [
       "<Figure size 1080x1080 with 3 Axes>"
      ]
     },
     "metadata": {},
     "output_type": "display_data"
    }
   ],
   "source": [
    "def cntf(arr,ele):\n",
    "    ct =0\n",
    "    for ch in arr:\n",
    "        if ch==ele:\n",
    "            ct+=1\n",
    "    return ct\n",
    "ct_arr = [[0,0,0,0],[0,0,0,0],[0,0,0,0]]\n",
    "for i in range(len(Y)):\n",
    "    if Y[i]=='N':\n",
    "        ct_arr[0][0] += cntf(X[i],'A')\n",
    "        ct_arr[0][1] += cntf(X[i],'G')\n",
    "        ct_arr[0][2] += cntf(X[i],'C')\n",
    "        ct_arr[0][3] += cntf(X[i],'T')\n",
    "    if Y[i]=='EI':\n",
    "        ct_arr[1][0] += cntf(X[i],'A')\n",
    "        ct_arr[1][1] += cntf(X[i],'G')\n",
    "        ct_arr[1][2] += cntf(X[i],'C')\n",
    "        ct_arr[1][3] += cntf(X[i],'T')\n",
    "    if Y[i]=='IE':\n",
    "        ct_arr[2][0] += cntf(X[i],'A')\n",
    "        ct_arr[2][1] += cntf(X[i],'G')\n",
    "        ct_arr[2][2] += cntf(X[i],'C')\n",
    "        ct_arr[2][3] += cntf(X[i],'T')\n",
    "ele_labels = ['A','G','C','T']\n",
    "fig,ax = plt.subplots(1,3,figsize=(15,15))\n",
    "ax[0].pie(ct_arr[0],labels=ele_labels,autopct='%1.1f%%')\n",
    "ax[0].set_title(\"Distribution for Neither IE nor EI\")\n",
    "ax[1].pie(ct_arr[1],labels=ele_labels,autopct='%1.1f%%')\n",
    "ax[1].set_title(\"Distribution for EI\")\n",
    "ax[2].pie(ct_arr[2],labels=ele_labels,autopct='%1.1f%%')\n",
    "ax[2].set_title(\"Distribution for IE\")\n",
    "plt.show()\n",
    "        \n",
    "\n"
   ]
  },
  {
   "cell_type": "markdown",
   "metadata": {},
   "source": [
    "## 2) What type of benefit you might hope to get from data mining?"
   ]
  },
  {
   "cell_type": "markdown",
   "metadata": {},
   "source": [
    "Ans-:\n",
    "1. Identifying patterns and relationships: Data mining techniques can help identify patterns and relationships between different features in the dataset that may not be immediately apparent. This can lead to new insights and discoveries in molecular biology.\n",
    "\n",
    "2. Developing predictive models: By analyzing the data, data mining techniques can help develop predictive models that can be used to identify splice junctions in new DNA sequences. This can be particularly useful in identifying potential disease-causing mutations or developing new treatments.\n",
    "\n",
    "3. Improving classification accuracy: Data mining can help improve the accuracy of classification algorithms used to identify splice junctions. This can help reduce false positives and false negatives, which can improve the overall accuracy of the classification model.\n",
    "\n",
    "4. Accelerating research: Data mining can help accelerate research by automating the analysis of large amounts of data. This can save time and resources, allowing researchers to focus on other aspects of their research.\n"
   ]
  },
  {
   "cell_type": "markdown",
   "metadata": {},
   "source": [
    "## 3) Discuss data quality issues"
   ]
  },
  {
   "cell_type": "markdown",
   "metadata": {},
   "source": [
    "(i) Unstructured data\n",
    "Many times, if data has not been entered correctly in the system, or some files may have been corrupted, the remaining data has many missing variables.\n",
    "\n",
    "(ii) Duplicate data\n",
    "Multiple copies of the same records take a toll on computing and storing, but may also produce skewed or incorrect insights when undetected. One of the critical problems could be human error — someone simply entering data multiple\n",
    "times by accident — or an algorithm that went wrong.\n",
    "\n",
    "(iii) Inaccurate data\n",
    "Inaccurate data is data in systems filled with human mistakes, like a type or wrong information provided by the customer or inputting details in the wrong field."
   ]
  },
  {
   "cell_type": "markdown",
   "metadata": {},
   "source": [
    "#### a) Are there problems with the data?\n",
    "\n",
    "Ans- The Primate splice-junction gene sequences (DNA) dataset has no duplicate or missing values, and the data is accurate and from a trusted source, thus there are no issues with the data."
   ]
  },
  {
   "cell_type": "markdown",
   "metadata": {},
   "source": [
    "#### b) What might be an appropriate response to the quality issues.\n",
    "\n",
    "Ans- To overcome data quality issue,we do the following:\n",
    "\n",
    "For Unstructured Data:\n",
    "Data integration tool help in converting unstructured data to structured data. And also, move data from various formats into one consistent form.\n",
    "\n",
    "For Duplicate Data:\n",
    "Data deduplication is a combination of human intuition, data analysis, and algorithms to detect possible duplicates based on chance scores and common sense to determine where records look like a near match.\n",
    "\n",
    "For Inaccurate Data:\n",
    "Automation tools to reduce the amount of manual work when moving data between systems is useful in reducing the risk of mistakes by tired or bored workers."
   ]
  },
  {
   "cell_type": "markdown",
   "metadata": {},
   "source": [
    " ### Q1. (ii):- Implement (1) Decision Tree, (2) Random Forest, (3) Naïve Bayes Classifier and (4) KNN classifier, (5) SVM, and (6) ANN and compare the performances using kfold cross validation and other tuning techniques ( grid search and parameter search, where ever applicable) "
   ]
  },
  {
   "cell_type": "markdown",
   "metadata": {},
   "source": [
    "## 1.1. Decision Tree"
   ]
  },
  {
   "cell_type": "code",
   "execution_count": 65,
   "metadata": {},
   "outputs": [],
   "source": [
    "#import the necessary packages\n",
    "#Evaluation Metrics\n",
    "from sklearn.metrics import accuracy_score ,precision_score,recall_score,f1_score,confusion_matrix,classification_report\n",
    "#Model Select\n",
    "from sklearn.model_selection import train_test_split,GridSearchCV\n",
    "from sklearn.model_selection import KFold,train_test_split,cross_val_score\n",
    "from sklearn.ensemble import RandomForestClassifier\n",
    "from sklearn.tree import DecisionTreeClassifier\n",
    "from sklearn.naive_bayes import GaussianNB\n",
    "from sklearn.neighbors import KNeighborsClassifier\n",
    "from sklearn import preprocessing,metrics\n",
    "from sklearn.pipeline import make_pipeline\n",
    "\n",
    "import numpy as np\n",
    "import pandas as pd\n",
    "import matplotlib.pyplot as plt"
   ]
  },
  {
   "cell_type": "code",
   "execution_count": 66,
   "metadata": {},
   "outputs": [],
   "source": [
    "# Encoding the categorical data\n",
    "\n",
    "# Encoding X\n",
    "from sklearn.compose import ColumnTransformer\n",
    "from sklearn.preprocessing import OneHotEncoder\n",
    "ct = ColumnTransformer(transformers=[('encoder',OneHotEncoder(),[i for i in range(60)])],remainder=\"passthrough\")\n",
    "X = ct.fit_transform(X)\n",
    "\n",
    "# Encoding Y\n",
    "from sklearn.preprocessing import LabelEncoder\n",
    "le = LabelEncoder()\n",
    "Y = le.fit_transform(Y)"
   ]
  },
  {
   "cell_type": "code",
   "execution_count": 67,
   "metadata": {},
   "outputs": [],
   "source": [
    "#Splitting the data into test set and train set\n",
    "X_train, X_test, y_train, y_test = train_test_split(X,Y,test_size=0.3,random_state=100)"
   ]
  },
  {
   "cell_type": "markdown",
   "metadata": {},
   "source": [
    "### 1.1.1. Decision Tree - Hyperparameteric Tuning "
   ]
  },
  {
   "cell_type": "code",
   "execution_count": 22,
   "metadata": {},
   "outputs": [
    {
     "name": "stdout",
     "output_type": "stream",
     "text": [
      "Best accuracy:  0.9407612109031527\n",
      "Best Hyperparameters:  {'criterion': 'gini', 'max_depth': None, 'max_leaf_nodes': 20, 'min_samples_leaf': 1, 'min_samples_split': 2}\n"
     ]
    }
   ],
   "source": [
    "from sklearn.model_selection import GridSearchCV\n",
    "\n",
    "criterion = [\"gini\", \"entropy\"] \n",
    "max_leaf_nodes = [None,2, 5, 10, 20]\n",
    "min_sample_leaf = [1,2,3,4] \n",
    "max_depth = [None, 2,4,6] \n",
    "min_split = [1,2,5,10] \n",
    "parameters = {\"criterion\": criterion,\n",
    " \"max_depth\": max_depth,\n",
    " \"min_samples_leaf\": min_sample_leaf,\n",
    " \"max_leaf_nodes\": max_leaf_nodes,\n",
    " \"min_samples_split\": min_split\n",
    " }\n",
    "decision_tree_model =DecisionTreeClassifier()\n",
    "t_model = GridSearchCV(estimator=decision_tree_model,param_grid = parameters,cv=5,scoring='accuracy',refit=True)\n",
    "\n",
    "t_model.fit(X_train,y_train)\n",
    "\n",
    "print(\"Best accuracy: \", t_model.best_score_)\n",
    "print(\"Best Hyperparameters: \",t_model.best_params_)"
   ]
  },
  {
   "cell_type": "markdown",
   "metadata": {},
   "source": [
    "### 1.1.2. Decision Tree - Training Decision Tree With Best Hyperparameters"
   ]
  },
  {
   "cell_type": "code",
   "execution_count": 72,
   "metadata": {},
   "outputs": [
    {
     "name": "stdout",
     "output_type": "stream",
     "text": [
      "best model accuracy  95.07\n",
      "Best model training accuracy  95.59\n"
     ]
    }
   ],
   "source": [
    "best_dt_model = DecisionTreeClassifier(criterion=\"gini\",max_depth=None,max_leaf_nodes=20,min_samples_leaf=1,min_samples_split=2)\n",
    "best_dt_model.fit(X_train,y_train)\n",
    "y_pred = best_dt_model.predict(X_test)\n",
    "dt_best_acc = round(accuracy_score(y_test,y_pred)*100,2)\n",
    "best_model_train_acc = round(best_dt_model.score(X_train,y_train)*100,2)\n",
    "print(\"best model accuracy \", dt_best_acc)\n",
    "print(\"Best model training accuracy \", best_model_train_acc)"
   ]
  },
  {
   "cell_type": "markdown",
   "metadata": {},
   "source": [
    "#### 1.1.2.1. Plotting the best decision tree model"
   ]
  },
  {
   "cell_type": "code",
   "execution_count": 73,
   "metadata": {},
   "outputs": [
    {
     "data": {
      "image/png": "[encoded data removed]",
      "text/plain": [
       "<Figure size 1152x432 with 1 Axes>"
      ]
     },
     "metadata": {
      "needs_background": "light"
     },
     "output_type": "display_data"
    }
   ],
   "source": [
    "# Plotting the tree\n",
    "from sklearn.tree import plot_tree\n",
    "import matplotlib.pyplot as plt \n",
    "plt.figure(figsize = (16,6))\n",
    "plot_tree(best_dt_model.fit(X_train, y_train) ,filled=True)\n",
    "plt.show()\n"
   ]
  },
  {
   "cell_type": "markdown",
   "metadata": {},
   "source": [
    "### 1.1.3. Decision Tree : Kfold cross validation"
   ]
  },
  {
   "cell_type": "code",
   "execution_count": 74,
   "metadata": {},
   "outputs": [
    {
     "name": "stdout",
     "output_type": "stream",
     "text": [
      "Kfolds_Decision Tree accuracy :   95.05485784576312 %\n",
      "for Decision Tree, Confusion matrix\n",
      " [[237   4   4]\n",
      " [ 14 207   6]\n",
      " [  1  18 462]]\n",
      "for Decision Tree, Classification Report\n",
      "               precision    recall  f1-score   support\n",
      "\n",
      "           0       0.94      0.97      0.95       245\n",
      "           1       0.90      0.91      0.91       227\n",
      "           2       0.98      0.96      0.97       481\n",
      "\n",
      "    accuracy                           0.95       953\n",
      "   macro avg       0.94      0.95      0.94       953\n",
      "weighted avg       0.95      0.95      0.95       953\n",
      "\n"
     ]
    }
   ],
   "source": [
    "# Calculating Kfold score for Decision Tree\n",
    "from sklearn.model_selection import KFold,cross_val_score\n",
    "from sklearn.metrics import classification_report,confusion_matrix,f1_score\n",
    "Kfolds = KFold(n_splits=10, random_state=7,shuffle=True)\n",
    "dt_kfold_score = cross_val_score(best_dt_model, X, Y, cv=Kfolds)\n",
    "print('Kfolds_Decision Tree accuracy :  ',dt_kfold_score.mean()*100,\"%\")\n",
    "confMatrix = confusion_matrix(y_test, y_pred)\n",
    "# sns.heatmap(confMatrix,annot=True)\n",
    "print('for Decision Tree, Confusion matrix\\n',confMatrix)\n",
    "report=classification_report(y_test, y_pred)\n",
    "print('for Decision Tree, Classification Report\\n',report)\n",
    "\n",
    "dt_f1 = f1_score(y_test,y_pred,average='micro')\n",
    "\n",
    "\n",
    "\n",
    "\n",
    "\n"
   ]
  },
  {
   "cell_type": "markdown",
   "metadata": {},
   "source": [
    "## 1.2. Random Forest"
   ]
  },
  {
   "cell_type": "markdown",
   "metadata": {},
   "source": [
    "### 1.2.1. Random Forest : Hyperparametric Tuning"
   ]
  },
  {
   "cell_type": "code",
   "execution_count": 75,
   "metadata": {},
   "outputs": [
    {
     "name": "stdout",
     "output_type": "stream",
     "text": [
      "Best accuracy:  0.9423959914971152\n",
      "Best Hyperparameters:  {'criterion': 'entropy', 'max_leaf_nodes': None, 'min_samples_leaf': 2, 'min_samples_split': 2, 'n_estimators': 10}\n"
     ]
    }
   ],
   "source": [
    "from sklearn.model_selection import GridSearchCV\n",
    "from sklearn.pipeline import make_pipeline\n",
    "criteria = [\"entropy\", \"gini\"] \n",
    "max_leaf_nodes_range = [None,2, 5,10]\n",
    "min_samples_leaf_range = [1,2,3,4] \n",
    "min_split_range = [1,2,5,10] \n",
    "no_of_trees =[10]\n",
    "parameters = {\"criterion\": criteria,\n",
    " \"min_samples_leaf\": min_samples_leaf_range,\n",
    " \"max_leaf_nodes\": max_leaf_nodes_range,\n",
    " \"min_samples_split\": min_split_range,\n",
    " \"n_estimators\": no_of_trees\n",
    " }\n",
    "rf_model = RandomForestClassifier(n_estimators=no_of_trees,\n",
    "                                  min_samples_split = min_split_range,\n",
    "                                  criterion=criteria,\n",
    "                                  max_leaf_nodes= max_leaf_nodes_range,\n",
    "                                  min_samples_leaf=min_samples_leaf_range,\n",
    "                                  )\n",
    "# rf_model = RandomForestClassifier(n_estimators=10)\n",
    "t_model = GridSearchCV(estimator=rf_model,\n",
    "                       param_grid = parameters,\n",
    "                       cv=5,\n",
    "                       scoring='accuracy',\n",
    "                       refit=True)\n",
    "\n",
    "t_model.fit(X_train,y_train)\n",
    "\n",
    "print(\"Best accuracy: \", t_model.best_score_)\n",
    "print(\"Best Hyperparameters: \",t_model.best_params_)"
   ]
  },
  {
   "cell_type": "markdown",
   "metadata": {},
   "source": [
    "### 1.2.2. Random Forest: Training Random Forest With Best Hyperparameters"
   ]
  },
  {
   "cell_type": "code",
   "execution_count": 76,
   "metadata": {},
   "outputs": [
    {
     "name": "stdout",
     "output_type": "stream",
     "text": [
      "best model accuracy  93.6\n",
      "Best model training accuracy  99.41\n"
     ]
    }
   ],
   "source": [
    "\n",
    "rf_best = RandomForestClassifier(n_estimators=10,criterion= 'entropy',max_leaf_nodes= None, min_samples_leaf= 2, min_samples_split= 2)\n",
    "rf_best.fit(X_train, y_train)\n",
    "Y_pred_rf = rf_best.predict(X_test)\n",
    "rf_best_acc=round(accuracy_score(y_test,Y_pred_rf)* 100, 2)\n",
    "random_forest_acc_score = round(rf_best.score(X_train, y_train) * 100, 2)\n",
    "print(\"best model accuracy \", rf_best_acc)\n",
    "print(\"Best model training accuracy \", random_forest_acc_score)"
   ]
  },
  {
   "cell_type": "markdown",
   "metadata": {},
   "source": [
    "### 1.2.3. K-fold cross-validation of random forest"
   ]
  },
  {
   "cell_type": "code",
   "execution_count": 77,
   "metadata": {},
   "outputs": [
    {
     "name": "stdout",
     "output_type": "stream",
     "text": [
      "Kfolds Random Forest Accuracy :  93.63708509414123\n",
      "for Random forest, Confusion matrix\n",
      " [[228   8   9]\n",
      " [ 10 202  15]\n",
      " [  7  12 462]]\n",
      "for Random forest, Classification Report\n",
      "               precision    recall  f1-score   support\n",
      "\n",
      "           0       0.93      0.93      0.93       245\n",
      "           1       0.91      0.89      0.90       227\n",
      "           2       0.95      0.96      0.96       481\n",
      "\n",
      "    accuracy                           0.94       953\n",
      "   macro avg       0.93      0.93      0.93       953\n",
      "weighted avg       0.94      0.94      0.94       953\n",
      "\n"
     ]
    }
   ],
   "source": [
    "from sklearn.model_selection import KFold,cross_val_score\n",
    "from sklearn.metrics import classification_report,confusion_matrix\n",
    "Kfolds = KFold(n_splits=10, random_state=7,shuffle=True)\n",
    "rf_kfold_score = cross_val_score(rf_best, X, Y, cv=Kfolds)\n",
    "print('Kfolds Random Forest Accuracy : ',rf_kfold_score.mean()*100)\n",
    "confMatrix = confusion_matrix(y_test, Y_pred_rf)\n",
    "print('for Random forest, Confusion matrix\\n',confMatrix)\n",
    "report=classification_report(y_test, Y_pred_rf)\n",
    "print('for Random forest, Classification Report\\n',report)\n",
    "rf_f1 = f1_score(y_test,Y_pred_rf,average='micro')"
   ]
  },
  {
   "cell_type": "markdown",
   "metadata": {},
   "source": [
    "##  1.3. Naive Bayes Classifier"
   ]
  },
  {
   "cell_type": "markdown",
   "metadata": {},
   "source": [
    "### 1.3.1. Naive Bayes Classifier : Hyperparametric Tuning (var_smoothing)"
   ]
  },
  {
   "cell_type": "code",
   "execution_count": 78,
   "metadata": {},
   "outputs": [
    {
     "name": "stdout",
     "output_type": "stream",
     "text": [
      "Tuned model Accuracy:  0.9338465431723858\n",
      "{'var_smoothing': 1e-06}\n"
     ]
    }
   ],
   "source": [
    "var_smoothing=[1e-9,1e-8,1e-7,1e-6]\n",
    "par_grid = {\"var_smoothing\": var_smoothing}\n",
    "nb=GaussianNB()\n",
    "grid = GridSearchCV(estimator=nb,param_grid=par_grid,cv = 5,scoring='accuracy',refit=True) \n",
    "grid.fit(X_train.toarray(), y_train) \n",
    "print(\"Tuned model Accuracy: \", grid.best_score_)\n",
    "print(grid.best_params_)"
   ]
  },
  {
   "cell_type": "markdown",
   "metadata": {},
   "source": [
    "### 1.3.2. Naive Bayes Classifier : Training Naive Bayes Classfier with best Hyperparameters"
   ]
  },
  {
   "cell_type": "code",
   "execution_count": 79,
   "metadata": {},
   "outputs": [
    {
     "name": "stdout",
     "output_type": "stream",
     "text": [
      "Test accuracy of Naive Bayes Classifier  94.75 %\n",
      "Training accuracy of Naive Bayes Classifier  93.83 %\n"
     ]
    }
   ],
   "source": [
    "nb_best_model = GaussianNB(var_smoothing=1e-6)\n",
    "nb_best_model.fit(X_train.toarray(),y_train)\n",
    "Y_pred = nb_best_model.predict(X_test.toarray())\n",
    "nb_best_acc = round(accuracy_score(y_test,Y_pred)*100,2)\n",
    "gaussian_acc_score = round(nb_best_model.score(X_train.toarray(),y_train)*100,2)\n",
    "print(\"Test accuracy of Naive Bayes Classifier \",nb_best_acc,\"%\")\n",
    "print(\"Training accuracy of Naive Bayes Classifier \",gaussian_acc_score,\"%\")\n"
   ]
  },
  {
   "cell_type": "code",
   "execution_count": 80,
   "metadata": {},
   "outputs": [
    {
     "name": "stdout",
     "output_type": "stream",
     "text": [
      "Kfolds_Naive Bayes :  93.60663055770489 %\n",
      "for Naive Bayes, Confusion matrix\n",
      " [[235   9   1]\n",
      " [  4 220   3]\n",
      " [ 18  15 448]]\n",
      "for Naive Bayes, Classification Report\n",
      "               precision    recall  f1-score   support\n",
      "\n",
      "           0       0.91      0.96      0.94       245\n",
      "           1       0.90      0.97      0.93       227\n",
      "           2       0.99      0.93      0.96       481\n",
      "\n",
      "    accuracy                           0.95       953\n",
      "   macro avg       0.94      0.95      0.94       953\n",
      "weighted avg       0.95      0.95      0.95       953\n",
      "\n"
     ]
    }
   ],
   "source": [
    "kfolds = KFold(n_splits=10, random_state=7,shuffle=True)\n",
    "nb_kfold_score = cross_val_score(nb_best_model, X.toarray(), Y, cv=kfolds)\n",
    "print('Kfolds_Naive Bayes : ',nb_kfold_score.mean()*100,\"%\")\n",
    "confusion = confusion_matrix(y_test, Y_pred)\n",
    "print('for Naive Bayes, Confusion matrix\\n',confusion)\n",
    "classify=classification_report(y_test, Y_pred)\n",
    "print('for Naive Bayes, Classification Report\\n',classify)\n",
    "nb_f1 = f1_score(y_test,Y_pred,average='micro')"
   ]
  },
  {
   "cell_type": "markdown",
   "metadata": {},
   "source": [
    "## 1.4. KNN Classifier"
   ]
  },
  {
   "cell_type": "markdown",
   "metadata": {},
   "source": [
    "### 1.4.1. KNN Classifier : Hyperparametric tuning (choosing the best value of n_neighbours)\n"
   ]
  },
  {
   "cell_type": "code",
   "execution_count": 84,
   "metadata": {},
   "outputs": [
    {
     "data": {
      "image/png": "[encoded data removed]",
      "text/plain": [
       "<Figure size 1296x432 with 1 Axes>"
      ]
     },
     "metadata": {
      "needs_background": "light"
     },
     "output_type": "display_data"
    }
   ],
   "source": [
    "from sklearn.neighbors import KNeighborsClassifier\n",
    "plt.subplots(figsize=(18,6))\n",
    "\n",
    "n_index=list(range(1,140,10))\n",
    "n = pd.Series([],dtype=pd.StringDtype()) \n",
    "x=range(1,50)\n",
    "for i in n_index:\n",
    "    knn_model=KNeighborsClassifier(n_neighbors=i) \n",
    "    knn_model.fit(X_train, y_train) \n",
    "    pred=knn_model.predict(X_test)\n",
    "    n=pd.concat([n,pd.Series(accuracy_score(y_test,pred))])\n",
    "plt.plot(n_index, n,marker=\"*\")\n",
    "plt.xticks(n_index)\n",
    "plt.show()"
   ]
  },
  {
   "cell_type": "code",
   "execution_count": 85,
   "metadata": {},
   "outputs": [
    {
     "name": "stdout",
     "output_type": "stream",
     "text": [
      "89.72\n",
      "91.0\n"
     ]
    }
   ],
   "source": [
    "kNeighbors = KNeighborsClassifier(n_neighbors = 101)\n",
    "kNeighbors.fit(X_train, y_train)\n",
    "Y_pred = kNeighbors.predict(X_test) \n",
    "knn_best_acc=round(accuracy_score(y_test,Y_pred)* 100, 2)\n",
    "knn_acc_score = round(kNeighbors.score(X_train, y_train) * 100, 2)\n",
    "print(knn_best_acc)\n",
    "print(knn_acc_score)\n"
   ]
  },
  {
   "cell_type": "markdown",
   "metadata": {},
   "source": [
    "### 1.4.2. KNN Classifier: K-fold Cross validation"
   ]
  },
  {
   "cell_type": "code",
   "execution_count": 86,
   "metadata": {},
   "outputs": [
    {
     "name": "stdout",
     "output_type": "stream",
     "text": [
      "Kfolds_KNN accuracy:  87.62285975041169 %\n",
      "for KNN, Confusion Matrix:\n",
      " [[235   7   3]\n",
      " [  6 219   2]\n",
      " [ 31  49 401]]\n",
      "for KNN, Classification Report\n",
      "               precision    recall  f1-score   support\n",
      "\n",
      "           0       0.86      0.96      0.91       245\n",
      "           1       0.80      0.96      0.87       227\n",
      "           2       0.99      0.83      0.90       481\n",
      "\n",
      "    accuracy                           0.90       953\n",
      "   macro avg       0.88      0.92      0.90       953\n",
      "weighted avg       0.91      0.90      0.90       953\n",
      "\n"
     ]
    }
   ],
   "source": [
    "from sklearn.model_selection import KFold,cross_val_score\n",
    "from sklearn.metrics import classification_report,confusion_matrix\n",
    "kfolds = KFold(n_splits=10, random_state=7,shuffle=True)\n",
    "knn_kfold_score = cross_val_score(kNeighbors, X, Y, cv=kfolds)\n",
    "print('Kfolds_KNN accuracy: ',knn_kfold_score.mean()*100,\"%\")\n",
    "confusion = confusion_matrix(y_test, Y_pred)\n",
    "\n",
    "print('for KNN, Confusion Matrix:\\n',confusion)\n",
    "classify=classification_report(y_test, Y_pred)\n",
    "print('for KNN, Classification Report\\n',classify)\n",
    "knn_f1 = f1_score(y_test,Y_pred,average='micro')"
   ]
  },
  {
   "cell_type": "markdown",
   "metadata": {},
   "source": [
    "## 1.5. SVM"
   ]
  },
  {
   "cell_type": "markdown",
   "metadata": {},
   "source": [
    "### 1.5.1. SVM : Hyperparametric Tuning"
   ]
  },
  {
   "cell_type": "code",
   "execution_count": 87,
   "metadata": {},
   "outputs": [
    {
     "name": "stdout",
     "output_type": "stream",
     "text": [
      "{'C': 10, 'gamma': 'scale', 'kernel': 'rbf'}\n"
     ]
    }
   ],
   "source": [
    "from sklearn.svm import SVC\n",
    "param_grid = [\n",
    "    {'C': [0.5, 1, 10, 100],\n",
    "     'gamma': ['scale', 1, 0.1, 0.01, 0.001, 0.0001],\n",
    "     'kernel': ['rbf']},\n",
    "]\n",
    "\n",
    "optimal_params = GridSearchCV(\n",
    "    SVC(),\n",
    "    param_grid,\n",
    "    cv=5,\n",
    "    scoring = 'accuracy',\n",
    "    verbose= 0\n",
    ")\n",
    "optimal_params.fit(X_train,y_train)\n",
    "print(optimal_params.best_params_)"
   ]
  },
  {
   "cell_type": "markdown",
   "metadata": {},
   "source": [
    "### 1.5.2. SVM : Training the SVM classifier using the best hyperparameters"
   ]
  },
  {
   "cell_type": "code",
   "execution_count": 88,
   "metadata": {},
   "outputs": [
    {
     "name": "stdout",
     "output_type": "stream",
     "text": [
      "95.8\n"
     ]
    }
   ],
   "source": [
    "svm_best_model = SVC(C=10,gamma='scale',kernel='rbf')\n",
    "svm_best_model.fit(X_train,y_train)\n",
    "y_pred_opt = np.round(svm_best_model.predict(X_test))\n",
    "svm_best_acc= round(accuracy_score(y_pred=y_pred_opt,y_true= y_test)*100,2)\n",
    "print(svm_best_acc)"
   ]
  },
  {
   "cell_type": "markdown",
   "metadata": {},
   "source": [
    "### 1.5.3. SVM : K-fold cross-validation"
   ]
  },
  {
   "cell_type": "code",
   "execution_count": 89,
   "metadata": {},
   "outputs": [
    {
     "name": "stdout",
     "output_type": "stream",
     "text": [
      "SVM accuracy:  96.4413824573934 %\n",
      "for SVM, Confusion Matrix:\n",
      " [[235   7   3]\n",
      " [  6 219   2]\n",
      " [ 31  49 401]]\n",
      "for SVM, Classification Report\n",
      "               precision    recall  f1-score   support\n",
      "\n",
      "           0       0.86      0.96      0.91       245\n",
      "           1       0.80      0.96      0.87       227\n",
      "           2       0.99      0.83      0.90       481\n",
      "\n",
      "    accuracy                           0.90       953\n",
      "   macro avg       0.88      0.92      0.90       953\n",
      "weighted avg       0.91      0.90      0.90       953\n",
      "\n"
     ]
    }
   ],
   "source": [
    "from sklearn.model_selection import KFold,cross_val_score\n",
    "from sklearn.metrics import classification_report,confusion_matrix\n",
    "kfolds = KFold(n_splits=10, random_state=7,shuffle=True)\n",
    "svm_kfold_score = cross_val_score(svm_best_model, X, Y, cv=kfolds)\n",
    "print('SVM accuracy: ',svm_kfold_score.mean()*100,\"%\")\n",
    "confusion = confusion_matrix(y_test, Y_pred)\n",
    "\n",
    "print('for SVM, Confusion Matrix:\\n',confusion)\n",
    "classify=classification_report(y_test, Y_pred)\n",
    "print('for SVM, Classification Report\\n',classify)\n",
    "svm_f1 = f1_score(y_test,Y_pred,average='micro')"
   ]
  },
  {
   "cell_type": "markdown",
   "metadata": {},
   "source": [
    "## 1.6. ANN (Pytorch)"
   ]
  },
  {
   "cell_type": "markdown",
   "metadata": {},
   "source": [
    "#### Making the ANN Model using pytorch"
   ]
  },
  {
   "cell_type": "code",
   "execution_count": 90,
   "metadata": {},
   "outputs": [],
   "source": [
    "import torch\n",
    "##2. Builiding a model\n",
    "from torch import nn\n",
    "\n"
   ]
  },
  {
   "cell_type": "code",
   "execution_count": 91,
   "metadata": {},
   "outputs": [],
   "source": [
    "# Accuracy function\n",
    "def accuracy_fn(y_true, y_pred):\n",
    "    correct = torch.eq(y_true, y_pred).sum().item()\n",
    "    acc = (correct / len(y_pred)) * 100\n",
    "    return acc"
   ]
  },
  {
   "cell_type": "code",
   "execution_count": 92,
   "metadata": {},
   "outputs": [],
   "source": [
    "# Coverting the data into tensor\n",
    "X_train_tensor = torch.from_numpy(X_train.todense()).type(torch.float)\n",
    "y_train_tensor = torch.from_numpy(y_train).type(torch.long)\n",
    "X_test_tensor = torch.from_numpy(X_test.todense()).type(torch.float)\n",
    "y_test_tensor = torch.from_numpy(y_test).type(torch.long)\n"
   ]
  },
  {
   "cell_type": "code",
   "execution_count": 93,
   "metadata": {},
   "outputs": [
    {
     "name": "stdout",
     "output_type": "stream",
     "text": [
      "tensor([[1., 0., 0.,  ..., 1., 0., 0.],\n",
      "        [1., 0., 0.,  ..., 0., 1., 0.],\n",
      "        [1., 0., 0.,  ..., 1., 0., 0.],\n",
      "        ...,\n",
      "        [0., 1., 0.,  ..., 1., 0., 0.],\n",
      "        [1., 0., 0.,  ..., 0., 0., 1.],\n",
      "        [0., 1., 0.,  ..., 0., 0., 1.]])\n"
     ]
    }
   ],
   "source": [
    "print((X_train_tensor))"
   ]
  },
  {
   "cell_type": "markdown",
   "metadata": {},
   "source": [
    "### 1.6.1. ANN- Training Loop"
   ]
  },
  {
   "cell_type": "code",
   "execution_count": 94,
   "metadata": {},
   "outputs": [
    {
     "name": "stdout",
     "output_type": "stream",
     "text": [
      "0\n",
      "Training Loss 1.113  Train accuracy 24.57245724572457\n",
      "Test Loss:  1.098  Test accuracy:   30.535152151101784\n",
      "40\n",
      "Training Loss 0.945  Train accuracy 52.52025202520252\n",
      "Test Loss:  0.966  Test accuracy:   50.47219307450157\n",
      "80\n",
      "Training Loss 0.734  Train accuracy 69.66696669666966\n",
      "Test Loss:  0.763  Test accuracy:   67.99580272822665\n",
      "120\n",
      "Training Loss 0.423  Train accuracy 93.02430243024303\n",
      "Test Loss:  0.467  Test accuracy:   90.34627492130114\n",
      "160\n",
      "Training Loss 0.236  Train accuracy 95.63456345634563\n",
      "Test Loss:  0.284  Test accuracy:   94.64847848898216\n",
      "200\n",
      "Training Loss 0.16  Train accuracy 96.84968496849685\n",
      "Test Loss:  0.209  Test accuracy:   95.0682056663169\n",
      "240\n",
      "Training Loss 0.126  Train accuracy 97.25472547254725\n",
      "Test Loss:  0.178  Test accuracy:   95.0682056663169\n"
     ]
    }
   ],
   "source": [
    "\n",
    "in_size = X_train.shape[1]\n",
    "class ANNmodel(nn.Module):\n",
    "    def __init__(self):\n",
    "        super().__init__()\n",
    "        self.layer_1 = nn.Linear(in_features=in_size,out_features=100)\n",
    "        self.layer_2 = nn.Linear(in_features=100,out_features=100)\n",
    "        self.layer_3 = nn.Linear(in_features=100,out_features=len(lables))\n",
    "        self.relu = nn.ReLU()\n",
    "        self.tanh = nn.Tanh()\n",
    "\n",
    "    def forward(self,x):\n",
    "        return (self.layer_3(self.tanh(self.layer_2(self.relu(self.layer_1(x))))))\n",
    "\n",
    "ann_model = ANNmodel()\n",
    "loss_fn = nn.CrossEntropyLoss()\n",
    "\n",
    "optimizer = torch.optim.SGD(params=ann_model.parameters(),\n",
    "                            lr= 0.05\n",
    "                            )\n",
    "## Building and training the model\n",
    "\n",
    "epochs = 241\n",
    "torch.manual_seed(42)\n",
    "\n",
    "for epoch in range(epochs):\n",
    "    #call train\n",
    "    ann_model.train()\n",
    "\n",
    "    # Do the forward pass\n",
    "    y_logits = ann_model(X_train_tensor).squeeze()\n",
    "    _,y_pred = torch.max(y_logits.data,1)\n",
    "\n",
    "    #Calculate the loss/accuracy\n",
    "    loss = loss_fn(y_logits,\n",
    "                   y_train_tensor\n",
    "                   )\n",
    "    acc = accuracy_fn(y_true=y_train_tensor,\n",
    "                      y_pred=y_pred)\n",
    "\n",
    "    # Optimizer zero grad\n",
    "    optimizer.zero_grad()\n",
    "\n",
    "    # Loss Backward (backpropagation)\n",
    "    loss.backward()\n",
    "\n",
    "    # Optimizer step (gradient descent)\n",
    "    optimizer.step()\n",
    "\n",
    "    ### Testing\n",
    "    ann_model.eval()\n",
    "    with torch.inference_mode():\n",
    "        # 1. Forward pass\n",
    "        test_logits = ann_model(X_test_tensor).squeeze()\n",
    "        _,test_pred = torch.max(test_logits.data,1)\n",
    "\n",
    "        #2. Calculate test loss/acc\n",
    "        test_loss = loss_fn(test_logits,y_test_tensor)\n",
    "        test_acc = accuracy_fn(y_true=y_test_tensor,\n",
    "                               y_pred = test_pred)\n",
    "\n",
    "    \n",
    "    # Print out what's happenin\n",
    "    if epoch%40== 0:\n",
    "        print(epoch)\n",
    "        print(\"Training Loss\",round(float(loss),3), \" Train accuracy\", acc )\n",
    "        print(\"Test Loss: \",round(float(test_loss),3), \" Test accuracy:  \",test_acc)"
   ]
  },
  {
   "cell_type": "markdown",
   "metadata": {},
   "source": [
    "### 1.6.2. ANN : Testing the ANN model"
   ]
  },
  {
   "cell_type": "code",
   "execution_count": 95,
   "metadata": {},
   "outputs": [
    {
     "name": "stdout",
     "output_type": "stream",
     "text": [
      "95.0682056663169\n"
     ]
    }
   ],
   "source": [
    "test_logits = ann_model(X_test_tensor).squeeze()\n",
    "_,test_pred = torch.max(test_logits.data,1)\n",
    "ann_acc = accuracy_fn(y_true=y_test_tensor,\n",
    "                               y_pred = test_pred)\n",
    "print(ann_acc)\n",
    "\n",
    "ann_f1 = f1_score(y_test_tensor,test_pred,average='micro')"
   ]
  },
  {
   "cell_type": "markdown",
   "metadata": {},
   "source": [
    "### 1.7. Finding the best model for Question 1"
   ]
  },
  {
   "cell_type": "markdown",
   "metadata": {},
   "source": [
    "#### 1.7.1. Sorting model  according to Kfold Score"
   ]
  },
  {
   "cell_type": "code",
   "execution_count": 96,
   "metadata": {},
   "outputs": [
    {
     "name": "stdout",
     "output_type": "stream",
     "text": [
      "By Kfold Score \n"
     ]
    },
    {
     "data": {
      "text/html": [
       "<div>\n",
       "<style scoped>\n",
       "    .dataframe tbody tr th:only-of-type {\n",
       "        vertical-align: middle;\n",
       "    }\n",
       "\n",
       "    .dataframe tbody tr th {\n",
       "        vertical-align: top;\n",
       "    }\n",
       "\n",
       "    .dataframe thead th {\n",
       "        text-align: right;\n",
       "    }\n",
       "</style>\n",
       "<table border=\"1\" class=\"dataframe\">\n",
       "  <thead>\n",
       "    <tr style=\"text-align: right;\">\n",
       "      <th></th>\n",
       "      <th>Model</th>\n",
       "      <th>Kfold-Score</th>\n",
       "      <th>Accuracy</th>\n",
       "    </tr>\n",
       "  </thead>\n",
       "  <tbody>\n",
       "    <tr>\n",
       "      <th>0</th>\n",
       "      <td>SVM</td>\n",
       "      <td>96.441382</td>\n",
       "      <td>95.800000</td>\n",
       "    </tr>\n",
       "    <tr>\n",
       "      <th>1</th>\n",
       "      <td>ANN</td>\n",
       "      <td>95.068206</td>\n",
       "      <td>95.068206</td>\n",
       "    </tr>\n",
       "    <tr>\n",
       "      <th>2</th>\n",
       "      <td>Decision Tree</td>\n",
       "      <td>95.054858</td>\n",
       "      <td>95.070000</td>\n",
       "    </tr>\n",
       "    <tr>\n",
       "      <th>3</th>\n",
       "      <td>Random Forest</td>\n",
       "      <td>93.637085</td>\n",
       "      <td>93.600000</td>\n",
       "    </tr>\n",
       "    <tr>\n",
       "      <th>4</th>\n",
       "      <td>Naive Bayes</td>\n",
       "      <td>93.606631</td>\n",
       "      <td>94.750000</td>\n",
       "    </tr>\n",
       "    <tr>\n",
       "      <th>5</th>\n",
       "      <td>KNN</td>\n",
       "      <td>87.622860</td>\n",
       "      <td>89.720000</td>\n",
       "    </tr>\n",
       "  </tbody>\n",
       "</table>\n",
       "</div>"
      ],
      "text/plain": [
       "           Model  Kfold-Score   Accuracy\n",
       "0            SVM    96.441382  95.800000\n",
       "1            ANN    95.068206  95.068206\n",
       "2  Decision Tree    95.054858  95.070000\n",
       "3  Random Forest    93.637085  93.600000\n",
       "4    Naive Bayes    93.606631  94.750000\n",
       "5            KNN    87.622860  89.720000"
      ]
     },
     "execution_count": 96,
     "metadata": {},
     "output_type": "execute_result"
    }
   ],
   "source": [
    "best = pd.DataFrame({\n",
    " 'Model': [ 'KNN','Random Forest','Naive Bayes','Decision Tree','SVM','ANN'],\n",
    " 'Kfold-Score': [ knn_kfold_score.mean()*100,rf_kfold_score.mean()*100,nb_kfold_score.mean()*100,dt_kfold_score.mean()*100,svm_kfold_score.mean()*100,ann_acc],\n",
    " \"Accuracy\":[knn_best_acc,rf_best_acc,nb_best_acc,dt_best_acc,svm_best_acc,ann_acc]\n",
    " })\n",
    "best_model_kfold = best.sort_values(by='Kfold-Score', ascending=False)\n",
    "best_model_kfold = best_model_kfold.reset_index(drop=True)\n",
    "print(\"By Kfold Score \")\n",
    "best_model_kfold"
   ]
  },
  {
   "cell_type": "markdown",
   "metadata": {},
   "source": [
    "#### 1.7.2. Sorting model according to Accuracy"
   ]
  },
  {
   "cell_type": "code",
   "execution_count": 97,
   "metadata": {},
   "outputs": [
    {
     "name": "stdout",
     "output_type": "stream",
     "text": [
      "By Accuracy \n"
     ]
    },
    {
     "data": {
      "text/html": [
       "<div>\n",
       "<style scoped>\n",
       "    .dataframe tbody tr th:only-of-type {\n",
       "        vertical-align: middle;\n",
       "    }\n",
       "\n",
       "    .dataframe tbody tr th {\n",
       "        vertical-align: top;\n",
       "    }\n",
       "\n",
       "    .dataframe thead th {\n",
       "        text-align: right;\n",
       "    }\n",
       "</style>\n",
       "<table border=\"1\" class=\"dataframe\">\n",
       "  <thead>\n",
       "    <tr style=\"text-align: right;\">\n",
       "      <th></th>\n",
       "      <th>Model</th>\n",
       "      <th>Kfold-Score</th>\n",
       "      <th>Accuracy</th>\n",
       "    </tr>\n",
       "  </thead>\n",
       "  <tbody>\n",
       "    <tr>\n",
       "      <th>0</th>\n",
       "      <td>SVM</td>\n",
       "      <td>96.441382</td>\n",
       "      <td>95.800000</td>\n",
       "    </tr>\n",
       "    <tr>\n",
       "      <th>1</th>\n",
       "      <td>Decision Tree</td>\n",
       "      <td>95.054858</td>\n",
       "      <td>95.070000</td>\n",
       "    </tr>\n",
       "    <tr>\n",
       "      <th>2</th>\n",
       "      <td>ANN</td>\n",
       "      <td>95.068206</td>\n",
       "      <td>95.068206</td>\n",
       "    </tr>\n",
       "    <tr>\n",
       "      <th>3</th>\n",
       "      <td>Naive Bayes</td>\n",
       "      <td>93.606631</td>\n",
       "      <td>94.750000</td>\n",
       "    </tr>\n",
       "    <tr>\n",
       "      <th>4</th>\n",
       "      <td>Random Forest</td>\n",
       "      <td>93.637085</td>\n",
       "      <td>93.600000</td>\n",
       "    </tr>\n",
       "    <tr>\n",
       "      <th>5</th>\n",
       "      <td>KNN</td>\n",
       "      <td>87.622860</td>\n",
       "      <td>89.720000</td>\n",
       "    </tr>\n",
       "  </tbody>\n",
       "</table>\n",
       "</div>"
      ],
      "text/plain": [
       "           Model  Kfold-Score   Accuracy\n",
       "0            SVM    96.441382  95.800000\n",
       "1  Decision Tree    95.054858  95.070000\n",
       "2            ANN    95.068206  95.068206\n",
       "3    Naive Bayes    93.606631  94.750000\n",
       "4  Random Forest    93.637085  93.600000\n",
       "5            KNN    87.622860  89.720000"
      ]
     },
     "execution_count": 97,
     "metadata": {},
     "output_type": "execute_result"
    }
   ],
   "source": [
    "best_model_accuracy = best.sort_values(by='Accuracy', ascending=False)\n",
    "best_model_accuracy = best_model_accuracy.reset_index(drop=True)\n",
    "print(\"By Accuracy \")\n",
    "best_model_accuracy"
   ]
  },
  {
   "cell_type": "markdown",
   "metadata": {},
   "source": [
    "#### 1.7.3. Plots comparing all the models"
   ]
  },
  {
   "cell_type": "code",
   "execution_count": 98,
   "metadata": {},
   "outputs": [
    {
     "data": {
      "image/png": "[encoded data removed]",
      "text/plain": [
       "<Figure size 1296x432 with 1 Axes>"
      ]
     },
     "metadata": {
      "needs_background": "light"
     },
     "output_type": "display_data"
    }
   ],
   "source": [
    "Models = [ 'KNN','Random Forest','Naive Bayes','Decision Tree','SVM','ANN']\n",
    "KfoldScore = [ knn_kfold_score.mean()*100,rf_kfold_score.mean()*100,nb_kfold_score.mean()*100,dt_kfold_score.mean()*100,svm_kfold_score.mean()*100,ann_acc]\n",
    "Accuracy = [knn_best_acc,rf_best_acc,nb_best_acc,dt_best_acc,svm_best_acc,ann_acc]\n",
    "F1Scores = [100*knn_f1,100*rf_f1,100*nb_f1,100*dt_f1,100*svm_f1,100*ann_f1]\n",
    "\n",
    "plt.subplots(figsize=(18,6))\n",
    "plt.plot(Models,KfoldScore,color='red',marker='*',label='K-Fold Score')\n",
    "plt.plot(Models,Accuracy,color='blue',marker='*',label='Accuracy')\n",
    "plt.plot(Models,F1Scores,color='green',marker='*',label='F1 Score')\n",
    "\n",
    "plt.legend()\n",
    "plt.show()"
   ]
  },
  {
   "cell_type": "markdown",
   "metadata": {},
   "source": [
    "# Q2: MNIST Dataset"
   ]
  },
  {
   "cell_type": "code",
   "execution_count": 104,
   "metadata": {},
   "outputs": [],
   "source": [
    "from sklearn.datasets import load_digits\n",
    "import pandas as pd\n",
    "import matplotlib.pyplot as plt\n",
    "mnist = load_digits()\n",
    "X = mnist.data\n",
    "y = mnist.target\n",
    "X_train_mnist, X_test_mnist, y_train_mnist, y_test_mnist = train_test_split(X,y,test_size=0.3,random_state=100)\n",
    "\n"
   ]
  },
  {
   "cell_type": "markdown",
   "metadata": {},
   "source": [
    "### 2.1. Decision Tree:  Finding the best decision tree model for mnist"
   ]
  },
  {
   "cell_type": "code",
   "execution_count": 105,
   "metadata": {},
   "outputs": [
    {
     "name": "stdout",
     "output_type": "stream",
     "text": [
      "Best accuracy:  0.8679377727186492\n",
      "Best Hyperparameters:  {'criterion': 'entropy', 'max_depth': None, 'max_leaf_nodes': None, 'min_samples_leaf': 1, 'min_samples_split': 5}\n"
     ]
    }
   ],
   "source": [
    "criterion = [\"gini\", \"entropy\"] \n",
    "max_leaf_nodes = [None,2, 5, 10, 20]\n",
    "min_sample_leaf = [1,2,3,4] \n",
    "max_depth = [None, 2,4,6] \n",
    "min_split = [1,2,5,10] \n",
    "parameters = {\"criterion\": criterion,\n",
    " \"max_depth\": max_depth,\n",
    " \"min_samples_leaf\": min_sample_leaf,\n",
    " \"max_leaf_nodes\": max_leaf_nodes,\n",
    " \"min_samples_split\": min_split\n",
    " }\n",
    "decision_tree_model =DecisionTreeClassifier()\n",
    "t_model = GridSearchCV(estimator=decision_tree_model,param_grid = parameters,cv=5,scoring='accuracy',refit=True)\n",
    "\n",
    "t_model.fit(X_train_mnist,y_train_mnist)\n",
    "\n",
    "print(\"Best accuracy: \", t_model.best_score_)\n",
    "print(\"Best Hyperparameters: \",t_model.best_params_)\n"
   ]
  },
  {
   "cell_type": "markdown",
   "metadata": {},
   "source": [
    "### 2.1.2. Decision Tree : Testing on the best model"
   ]
  },
  {
   "cell_type": "code",
   "execution_count": 106,
   "metadata": {},
   "outputs": [
    {
     "name": "stdout",
     "output_type": "stream",
     "text": [
      "for Decision Tree,Train Accuracy 97.61\n",
      "for Decision Tree,Test Accuracy 85.56\n",
      "for Decision Tree, Confusion matrix\n",
      " [[54  0  0  0  3  0  1  0  1  0]\n",
      " [ 0 41  2  0  1  0  0  3  2  1]\n",
      " [ 2  1 51  4  0  0  0  0  2  0]\n",
      " [ 0  0  3 40  0  3  0  3  0  0]\n",
      " [ 3  0  0  0 49  1  3  3  0  0]\n",
      " [ 0  0  0  0  1 50  1  1  0  1]\n",
      " [ 1  0  0  1  2  0 52  0  2  0]\n",
      " [ 0  3  0  0  1  1  0 43  1  1]\n",
      " [ 0  0  0  0  0  3  0  2 42  1]\n",
      " [ 0  5  0  2  4  1  0  1  0 40]]\n",
      "for Decision Tree, Classification Report\n",
      "               precision    recall  f1-score   support\n",
      "\n",
      "           0       0.90      0.92      0.91        59\n",
      "           1       0.82      0.82      0.82        50\n",
      "           2       0.91      0.85      0.88        60\n",
      "           3       0.85      0.82      0.83        49\n",
      "           4       0.80      0.83      0.82        59\n",
      "           5       0.85      0.93      0.88        54\n",
      "           6       0.91      0.90      0.90        58\n",
      "           7       0.77      0.86      0.81        50\n",
      "           8       0.84      0.88      0.86        48\n",
      "           9       0.91      0.75      0.82        53\n",
      "\n",
      "    accuracy                           0.86       540\n",
      "   macro avg       0.86      0.85      0.85       540\n",
      "weighted avg       0.86      0.86      0.86       540\n",
      "\n"
     ]
    }
   ],
   "source": [
    "best_dt_model_mnist = DecisionTreeClassifier(criterion=\"entropy\",max_depth=None,max_leaf_nodes=None,min_samples_leaf=1,min_samples_split=5)\n",
    "best_dt_model_mnist.fit(X_train_mnist,y_train_mnist)\n",
    "y_pred_mnist = best_dt_model_mnist.predict(X_test_mnist)\n",
    "dt_best_acc = round(accuracy_score(y_test_mnist,y_pred_mnist)*100,2)\n",
    "best_model_train_acc = round(best_dt_model_mnist.score(X_train_mnist,y_train_mnist)*100,2)\n",
    "confMatrix = confusion_matrix(y_test_mnist, y_pred_mnist)\n",
    "print('for Decision Tree,Train Accuracy',best_model_train_acc)\n",
    "print('for Decision Tree,Test Accuracy',dt_best_acc)\n",
    "print('for Decision Tree, Confusion matrix\\n',confMatrix)\n",
    "report=classification_report(y_test_mnist, y_pred_mnist)\n",
    "print('for Decision Tree, Classification Report\\n',report)\n",
    "\n",
    "dt_f1 = f1_score(y_test_mnist,y_pred_mnist,average='micro')"
   ]
  },
  {
   "cell_type": "markdown",
   "metadata": {},
   "source": [
    "### 2.1.3. Decision Tree : Kfold cross validation"
   ]
  },
  {
   "cell_type": "code",
   "execution_count": 107,
   "metadata": {},
   "outputs": [
    {
     "name": "stdout",
     "output_type": "stream",
     "text": [
      "K-Fold score for Decision Tree MNIST=  86.7042209807573 %\n"
     ]
    }
   ],
   "source": [
    "from sklearn.model_selection import KFold,cross_val_score\n",
    "kfolds = KFold(n_splits=10, random_state=7,shuffle=True)\n",
    "dt_kfold_score = cross_val_score(best_dt_model_mnist, X, y, cv=kfolds)\n",
    "print(\"K-Fold score for Decision Tree MNIST= \",dt_kfold_score.mean()*100,\"%\")"
   ]
  },
  {
   "cell_type": "markdown",
   "metadata": {},
   "source": [
    "#### Some examples how the model is predicting"
   ]
  },
  {
   "cell_type": "code",
   "execution_count": 108,
   "metadata": {},
   "outputs": [
    {
     "data": {
      "image/png": "[encoded data removed]",
      "text/plain": [
       "<Figure size 720x216 with 4 Axes>"
      ]
     },
     "metadata": {
      "needs_background": "light"
     },
     "output_type": "display_data"
    }
   ],
   "source": [
    "_, axes = plt.subplots(nrows=1, ncols=4, figsize=(10, 3))\n",
    "for axe, image, prediction,true_label in zip(axes, X_test_mnist[100:], y_pred_mnist[100:],y_test_mnist[100:]):\n",
    "    axe.set_axis_off()\n",
    "    image = image.reshape(8, 8)\n",
    "    axe.imshow(image, cmap=plt.cm.gray_r, interpolation=\"nearest\")\n",
    "    axe.set_title(f\"Pred: {prediction} True:{true_label}\")"
   ]
  },
  {
   "cell_type": "markdown",
   "metadata": {},
   "source": [
    "## 2.2. Random forest model for MNIST\n",
    "### 2.2.1. Random Forest:  Hyperparametric tuning\n"
   ]
  },
  {
   "cell_type": "code",
   "execution_count": 109,
   "metadata": {},
   "outputs": [
    {
     "name": "stdout",
     "output_type": "stream",
     "text": [
      "Best accuracy:  0.9467052425219755\n",
      "Best Hyperparameters:  {'criterion': 'gini', 'max_leaf_nodes': None, 'min_samples_leaf': 3, 'min_samples_split': 2, 'n_estimators': 10}\n"
     ]
    }
   ],
   "source": [
    "criteria = [\"entropy\", \"gini\"] \n",
    "max_leaf_nodes_range = [None,2, 5,10]\n",
    "min_samples_leaf_range = [1,2,3,4] \n",
    "min_split_range = [1,2,5,10] \n",
    "no_of_trees =[10]\n",
    "parameters = {\"criterion\": criteria,\n",
    " \"min_samples_leaf\": min_samples_leaf_range,\n",
    " \"max_leaf_nodes\": max_leaf_nodes_range,\n",
    " \"min_samples_split\": min_split_range,\n",
    " \"n_estimators\": no_of_trees\n",
    " }\n",
    "rf_model = RandomForestClassifier(n_estimators=no_of_trees,\n",
    "                                  min_samples_split = min_split_range,\n",
    "                                  criterion=criteria,\n",
    "                                  max_leaf_nodes= max_leaf_nodes_range,\n",
    "                                  min_samples_leaf=min_samples_leaf_range,\n",
    "                                  )\n",
    "# rf_model = RandomForestClassifier(n_estimators=10)\n",
    "t_model = GridSearchCV(estimator=rf_model,\n",
    "                       param_grid = parameters,\n",
    "                       cv=5,\n",
    "                       scoring='accuracy',\n",
    "                       refit=True)\n",
    "\n",
    "t_model.fit(X_train_mnist,y_train_mnist)\n",
    "\n",
    "print(\"Best accuracy: \", t_model.best_score_)\n",
    "print(\"Best Hyperparameters: \",t_model.best_params_)"
   ]
  },
  {
   "cell_type": "code",
   "execution_count": 125,
   "metadata": {},
   "outputs": [
    {
     "name": "stdout",
     "output_type": "stream",
     "text": [
      "for Decision Tree,Train Accuracy 99.28\n",
      "for Decision Tree,Test Accuracy 92.22\n",
      "for Random forest, Confusion matrix\n",
      " [[58  0  0  0  1  0  0  0  0  0]\n",
      " [ 0 46  1  0  0  1  0  0  1  1]\n",
      " [ 1  1 52  1  0  0  0  1  3  1]\n",
      " [ 0  0  0 46  0  1  0  1  1  0]\n",
      " [ 0  1  0  0 56  0  0  1  1  0]\n",
      " [ 0  0  0  1  0 52  1  0  0  0]\n",
      " [ 1  0  0  0  2  0 54  0  1  0]\n",
      " [ 0  0  0  0  1  0  0 49  0  0]\n",
      " [ 0  4  1  2  0  1  0  1 39  0]\n",
      " [ 1  0  0  0  0  0  0  4  2 46]]\n",
      "for Random forest, Classification Report\n",
      "               precision    recall  f1-score   support\n",
      "\n",
      "           0       0.95      0.98      0.97        59\n",
      "           1       0.88      0.92      0.90        50\n",
      "           2       0.96      0.87      0.91        60\n",
      "           3       0.92      0.94      0.93        49\n",
      "           4       0.93      0.95      0.94        59\n",
      "           5       0.95      0.96      0.95        54\n",
      "           6       0.98      0.93      0.96        58\n",
      "           7       0.86      0.98      0.92        50\n",
      "           8       0.81      0.81      0.81        48\n",
      "           9       0.96      0.87      0.91        53\n",
      "\n",
      "    accuracy                           0.92       540\n",
      "   macro avg       0.92      0.92      0.92       540\n",
      "weighted avg       0.92      0.92      0.92       540\n",
      "\n"
     ]
    }
   ],
   "source": [
    "\n",
    "rf_best = RandomForestClassifier(n_estimators=10,criterion= 'gini',max_leaf_nodes= None, min_samples_leaf= 3, min_samples_split= 2)\n",
    "rf_best.fit(X_train_mnist, y_train_mnist)\n",
    "Y_pred_rf_mnist = rf_best.predict(X_test_mnist)\n",
    "rf_best_acc=round(accuracy_score(y_test_mnist,Y_pred_rf_mnist)* 100, 2)\n",
    "random_forest_acc_score = round(rf_best.score(X_train_mnist, y_train_mnist) * 100, 2)\n",
    "confMatrix = confusion_matrix(y_test_mnist, Y_pred_rf_mnist)\n",
    "\n",
    "print('for Decision Tree,Train Accuracy',random_forest_acc_score)\n",
    "print('for Decision Tree,Test Accuracy',rf_best_acc)\n",
    "\n",
    "print('for Random forest, Confusion matrix\\n',confMatrix)\n",
    "report=classification_report(y_test_mnist, Y_pred_rf_mnist)\n",
    "print('for Random forest, Classification Report\\n',report)\n",
    "\n",
    "rf_f1 = f1_score(y_test_mnist,Y_pred_rf_mnist,average='micro')"
   ]
  },
  {
   "cell_type": "markdown",
   "metadata": {},
   "source": [
    "### 2.2.2. Random Forest: Kfold cross validation"
   ]
  },
  {
   "cell_type": "code",
   "execution_count": 126,
   "metadata": {},
   "outputs": [
    {
     "name": "stdout",
     "output_type": "stream",
     "text": [
      "K-Fold score for Random Forest for MNIST=  94.32402234636872 %\n"
     ]
    }
   ],
   "source": [
    "kfolds = KFold(n_splits=10, random_state=7,shuffle=True)\n",
    "rf_mnist_kfold_score = cross_val_score(rf_best, X, y, cv=kfolds)\n",
    "print(\"K-Fold score for Random Forest for MNIST= \",rf_mnist_kfold_score.mean()*100,\"%\")"
   ]
  },
  {
   "cell_type": "markdown",
   "metadata": {},
   "source": [
    "## 2.3. Naive Bayes for MNIST\n",
    "### 2.3.1. Hyperparametric tuning"
   ]
  },
  {
   "cell_type": "code",
   "execution_count": 127,
   "metadata": {},
   "outputs": [
    {
     "name": "stdout",
     "output_type": "stream",
     "text": [
      "Tuned model Accuracy For Naive Bayes:  0.8679314488079429\n",
      "{'var_smoothing': 1e-06}\n"
     ]
    }
   ],
   "source": [
    "var_smoothing=[1e-9,1e-8,1e-7,1e-6]\n",
    "par_grid = {\"var_smoothing\": var_smoothing}\n",
    "nb=GaussianNB()\n",
    "grid = GridSearchCV(estimator=nb,param_grid=par_grid,cv = 5,scoring='accuracy',refit=True) \n",
    "grid.fit(X_train_mnist, y_train_mnist) \n",
    "print(\"Tuned model Accuracy For Naive Bayes: \", grid.best_score_)\n",
    "print(grid.best_params_)"
   ]
  },
  {
   "cell_type": "code",
   "execution_count": 128,
   "metadata": {},
   "outputs": [
    {
     "name": "stdout",
     "output_type": "stream",
     "text": [
      "Test accuracy of Naive Bayes Classifier  87.41 %\n",
      "Training accuracy of Naive Bayes Classifier  89.58 %\n",
      "for Naive Bayes, Confusion matrix\n",
      " [[57  0  0  0  0  0  0  1  0  1]\n",
      " [ 0 42  2  0  0  0  2  0  4  0]\n",
      " [ 0  8 44  0  0  0  0  0  8  0]\n",
      " [ 0  0  1 41  0  0  0  4  2  1]\n",
      " [ 0  1  0  0 53  0  0  3  2  0]\n",
      " [ 0  2  0  1  0 48  1  1  0  1]\n",
      " [ 0  2  0  0  0  2 54  0  0  0]\n",
      " [ 0  0  0  0  1  0  0 49  0  0]\n",
      " [ 0  3  0  1  0  2  0  0 42  0]\n",
      " [ 0  3  1  0  1  1  0  3  2 42]]\n",
      "for Naive Bayes, Classification Report\n",
      "               precision    recall  f1-score   support\n",
      "\n",
      "           0       1.00      0.97      0.98        59\n",
      "           1       0.69      0.84      0.76        50\n",
      "           2       0.92      0.73      0.81        60\n",
      "           3       0.95      0.84      0.89        49\n",
      "           4       0.96      0.90      0.93        59\n",
      "           5       0.91      0.89      0.90        54\n",
      "           6       0.95      0.93      0.94        58\n",
      "           7       0.80      0.98      0.88        50\n",
      "           8       0.70      0.88      0.78        48\n",
      "           9       0.93      0.79      0.86        53\n",
      "\n",
      "    accuracy                           0.87       540\n",
      "   macro avg       0.88      0.87      0.87       540\n",
      "weighted avg       0.89      0.87      0.88       540\n",
      "\n"
     ]
    }
   ],
   "source": [
    "nb_best_model = GaussianNB(var_smoothing=1e-6)\n",
    "nb_best_model.fit(X_train_mnist,y_train_mnist)\n",
    "y_pred_mnist = nb_best_model.predict(X_test_mnist)\n",
    "nb_best_acc = round(accuracy_score(y_test_mnist,y_pred_mnist)*100,2)\n",
    "gaussian_acc_score = round(nb_best_model.score(X_train_mnist,y_train_mnist)*100,2)\n",
    "print(\"Test accuracy of Naive Bayes Classifier \",nb_best_acc,\"%\")\n",
    "print(\"Training accuracy of Naive Bayes Classifier \",gaussian_acc_score,\"%\")\n",
    "confusion = confusion_matrix(y_test_mnist, y_pred_mnist)\n",
    "print('for Naive Bayes, Confusion matrix\\n',confusion)\n",
    "classify=classification_report(y_test_mnist, y_pred_mnist)\n",
    "print('for Naive Bayes, Classification Report\\n',classify)\n",
    "nb_f1 = f1_score(y_test_mnist,y_pred_mnist,average='micro')"
   ]
  },
  {
   "cell_type": "code",
   "execution_count": 129,
   "metadata": {},
   "outputs": [
    {
     "name": "stdout",
     "output_type": "stream",
     "text": [
      "K-Fold score for Naive Bayes for MNIST=  88.20266914959653 %\n"
     ]
    }
   ],
   "source": [
    "kfolds = KFold(n_splits=10, random_state=7,shuffle=True)\n",
    "nb_kfold_score = cross_val_score(nb_best_model, X, y, cv=kfolds)\n",
    "print(\"K-Fold score for Naive Bayes for MNIST= \",nb_kfold_score.mean()*100,\"%\")"
   ]
  },
  {
   "cell_type": "markdown",
   "metadata": {},
   "source": [
    "## 2.4. KNN classifier for MNIST"
   ]
  },
  {
   "cell_type": "code",
   "execution_count": 133,
   "metadata": {},
   "outputs": [
    {
     "data": {
      "image/png": "[encoded data removed]",
      "text/plain": [
       "<Figure size 1296x432 with 1 Axes>"
      ]
     },
     "metadata": {
      "needs_background": "light"
     },
     "output_type": "display_data"
    }
   ],
   "source": [
    "from sklearn.neighbors import KNeighborsClassifier\n",
    "plt.subplots(figsize=(18,6))\n",
    "\n",
    "n_index=list(range(1,50))\n",
    "n = pd.Series([],dtype=pd.StringDtype()) \n",
    "x=range(1,50)\n",
    "for i in list(range(1,50)):\n",
    "    knn_model=KNeighborsClassifier(n_neighbors=i) \n",
    "    knn_model.fit(X_train_mnist, y_train_mnist) \n",
    "    pred=knn_model.predict(X_test_mnist)\n",
    "    n=pd.concat([n,pd.Series(accuracy_score(y_test_mnist,pred))])\n",
    "plt.plot(n_index, n,marker=\"*\")\n",
    "plt.xticks(x)\n",
    "plt.show()"
   ]
  },
  {
   "cell_type": "code",
   "execution_count": 134,
   "metadata": {},
   "outputs": [
    {
     "name": "stdout",
     "output_type": "stream",
     "text": [
      "Test accuracy 99.63\n",
      "Training accuracy 99.12\n",
      "for KNN, Confusion Matrix:\n",
      " [[59  0  0  0  0  0  0  0  0  0]\n",
      " [ 0 50  0  0  0  0  0  0  0  0]\n",
      " [ 0  0 60  0  0  0  0  0  0  0]\n",
      " [ 0  0  0 49  0  0  0  0  0  0]\n",
      " [ 0  0  0  0 59  0  0  0  0  0]\n",
      " [ 0  0  0  0  0 54  0  0  0  0]\n",
      " [ 0  0  0  0  0  0 57  0  1  0]\n",
      " [ 0  0  0  0  0  0  0 50  0  0]\n",
      " [ 0  1  0  0  0  0  0  0 47  0]\n",
      " [ 0  0  0  0  0  0  0  0  0 53]]\n",
      "for KNN, Classification Report\n",
      "               precision    recall  f1-score   support\n",
      "\n",
      "           0       1.00      1.00      1.00        59\n",
      "           1       0.98      1.00      0.99        50\n",
      "           2       1.00      1.00      1.00        60\n",
      "           3       1.00      1.00      1.00        49\n",
      "           4       1.00      1.00      1.00        59\n",
      "           5       1.00      1.00      1.00        54\n",
      "           6       1.00      0.98      0.99        58\n",
      "           7       1.00      1.00      1.00        50\n",
      "           8       0.98      0.98      0.98        48\n",
      "           9       1.00      1.00      1.00        53\n",
      "\n",
      "    accuracy                           1.00       540\n",
      "   macro avg       1.00      1.00      1.00       540\n",
      "weighted avg       1.00      1.00      1.00       540\n",
      "\n"
     ]
    }
   ],
   "source": [
    "kNeighbors = KNeighborsClassifier(n_neighbors = 3)\n",
    "kNeighbors.fit(X_train_mnist, y_train_mnist)\n",
    "y_pred_mnist = kNeighbors.predict(X_test_mnist) \n",
    "knn_best_acc=round(accuracy_score(y_test_mnist,y_pred_mnist)* 100, 2)\n",
    "knn_acc_score = round(kNeighbors.score(X_train_mnist, y_train_mnist) * 100, 2)\n",
    "print(\"Test accuracy\", knn_best_acc)\n",
    "print(\"Training accuracy\", knn_acc_score)\n",
    "confusion = confusion_matrix(y_test_mnist, y_pred_mnist)\n",
    "\n",
    "print('for KNN, Confusion Matrix:\\n',confusion)\n",
    "classify=classification_report(y_test_mnist, y_pred_mnist)\n",
    "print('for KNN, Classification Report\\n',classify)\n",
    "\n",
    "knn_f1 = f1_score(y_test_mnist,y_pred_mnist,average='micro')\n"
   ]
  },
  {
   "cell_type": "code",
   "execution_count": 135,
   "metadata": {},
   "outputs": [
    {
     "name": "stdout",
     "output_type": "stream",
     "text": [
      "K-Fold score for KNN for MNIST=  99.05400372439479 %\n"
     ]
    }
   ],
   "source": [
    "kfolds = KFold(n_splits=10, random_state=7,shuffle=True)\n",
    "KNN_kfold_score = cross_val_score(kNeighbors, X, y, cv=kfolds)\n",
    "print(\"K-Fold score for KNN for MNIST= \",KNN_kfold_score.mean()*100,\"%\")"
   ]
  },
  {
   "cell_type": "markdown",
   "metadata": {},
   "source": [
    "## 2.5. SVM for MNIST\n",
    "\n",
    " Hyperparametric Tuning"
   ]
  },
  {
   "cell_type": "code",
   "execution_count": 136,
   "metadata": {},
   "outputs": [
    {
     "name": "stdout",
     "output_type": "stream",
     "text": [
      "{'C': 10, 'gamma': 'scale', 'kernel': 'rbf'}\n"
     ]
    }
   ],
   "source": [
    "from sklearn.svm import SVC\n",
    "param_grid = [\n",
    "    {'C': [0.5, 1, 10, 100],\n",
    "     'gamma': ['scale', 1, 0.1, 0.01, 0.001, 0.0001],\n",
    "     'kernel': ['rbf']},\n",
    "]\n",
    "\n",
    "optimal_params = GridSearchCV(\n",
    "    SVC(),\n",
    "    param_grid,\n",
    "    cv=5,\n",
    "    scoring = 'accuracy',\n",
    "    verbose= 0\n",
    ")\n",
    "optimal_params.fit(X_train_mnist,y_train_mnist)\n",
    "print(optimal_params.best_params_)"
   ]
  },
  {
   "cell_type": "code",
   "execution_count": 137,
   "metadata": {},
   "outputs": [
    {
     "name": "stdout",
     "output_type": "stream",
     "text": [
      "99.44\n",
      "for KNN, Confusion Matrix:\n",
      " [[59  0  0  0  0  0  0  0  0  0]\n",
      " [ 0 50  0  0  0  0  0  0  0  0]\n",
      " [ 0  0 60  0  0  0  0  0  0  0]\n",
      " [ 0  0  0 49  0  0  0  0  0  0]\n",
      " [ 0  0  0  0 59  0  0  0  0  0]\n",
      " [ 0  0  0  0  0 53  1  0  0  0]\n",
      " [ 0  0  0  0  0  0 57  0  1  0]\n",
      " [ 0  0  0  0  0  0  0 50  0  0]\n",
      " [ 0  0  0  0  0  0  0  0 47  1]\n",
      " [ 0  0  0  0  0  0  0  0  0 53]]\n",
      "for KNN, Classification Report\n",
      "               precision    recall  f1-score   support\n",
      "\n",
      "           0       1.00      1.00      1.00        59\n",
      "           1       1.00      1.00      1.00        50\n",
      "           2       1.00      1.00      1.00        60\n",
      "           3       1.00      1.00      1.00        49\n",
      "           4       1.00      1.00      1.00        59\n",
      "           5       1.00      0.98      0.99        54\n",
      "           6       0.98      0.98      0.98        58\n",
      "           7       1.00      1.00      1.00        50\n",
      "           8       0.98      0.98      0.98        48\n",
      "           9       0.98      1.00      0.99        53\n",
      "\n",
      "    accuracy                           0.99       540\n",
      "   macro avg       0.99      0.99      0.99       540\n",
      "weighted avg       0.99      0.99      0.99       540\n",
      "\n"
     ]
    }
   ],
   "source": [
    "svm_best_model = SVC(C=10,gamma='scale',kernel='rbf')\n",
    "svm_best_model.fit(X_train_mnist,y_train_mnist)\n",
    "y_pred_mnist = np.round(svm_best_model.predict(X_test_mnist))\n",
    "svm_best_acc= round(accuracy_score(y_pred=y_pred_mnist,y_true= y_test_mnist)*100,2)\n",
    "print(svm_best_acc)\n",
    "confusion = confusion_matrix(y_test_mnist, y_pred_mnist)\n",
    "\n",
    "print('for KNN, Confusion Matrix:\\n',confusion)\n",
    "classify=classification_report(y_test_mnist, y_pred_mnist)\n",
    "print('for KNN, Classification Report\\n',classify)\n",
    "\n",
    "svm_f1 = f1_score(y_test_mnist,y_pred_mnist,average='micro')"
   ]
  },
  {
   "cell_type": "code",
   "execution_count": 138,
   "metadata": {},
   "outputs": [
    {
     "name": "stdout",
     "output_type": "stream",
     "text": [
      "K-Fold score for Decision Tree MNIST=  99.2203600248293 %\n"
     ]
    }
   ],
   "source": [
    "kfolds = KFold(n_splits=10, random_state=7,shuffle=True)\n",
    "svm_kfold_score = cross_val_score(svm_best_model, X, y, cv=kfolds)\n",
    "print(\"K-Fold score for Decision Tree MNIST= \",svm_kfold_score.mean()*100,\"%\")"
   ]
  },
  {
   "cell_type": "markdown",
   "metadata": {},
   "source": [
    "## 2.6. ANN for the MNIST"
   ]
  },
  {
   "cell_type": "code",
   "execution_count": 139,
   "metadata": {},
   "outputs": [],
   "source": [
    "# Coverting the data into tensor\n",
    "X_train_tensor_mnist = torch.from_numpy(X_train_mnist).type(torch.float)\n",
    "y_train_tensor_mnist = torch.from_numpy(y_train_mnist).type(torch.long)\n",
    "X_test_tensor_mnist = torch.from_numpy(X_test_mnist).type(torch.float)\n",
    "y_test_tensor_mnist = torch.from_numpy(y_test_mnist).type(torch.long)"
   ]
  },
  {
   "cell_type": "code",
   "execution_count": 140,
   "metadata": {},
   "outputs": [
    {
     "name": "stdout",
     "output_type": "stream",
     "text": [
      "0\n",
      "Training Loss 2.339  Train accuracy 9.228321400159109\n",
      "Test Loss:  2.332  Test accuracy:   10.555555555555555\n",
      "1000\n",
      "Training Loss 0.246  Train accuracy 92.91964996022276\n",
      "Test Loss:  0.259  Test accuracy:   92.4074074074074\n",
      "2000\n",
      "Training Loss 0.118  Train accuracy 97.3747016706444\n",
      "Test Loss:  0.178  Test accuracy:   94.44444444444444\n",
      "3000\n",
      "Training Loss 0.078  Train accuracy 98.4884645982498\n",
      "Test Loss:  0.164  Test accuracy:   95.37037037037037\n",
      "4000\n",
      "Training Loss 0.057  Train accuracy 99.0453460620525\n",
      "Test Loss:  0.159  Test accuracy:   95.55555555555556\n"
     ]
    }
   ],
   "source": [
    "in_size = X_train_mnist.shape[1]\n",
    "class ANNmodelforMNIST(nn.Module):\n",
    "    def __init__(self):\n",
    "        super().__init__()\n",
    "        self.layer_1 = nn.Linear(in_features=in_size,out_features=10)\n",
    "        self.layer_2 = nn.Linear(in_features=10,out_features=10)\n",
    "        self.layer_3 = nn.Linear(in_features=10,out_features=10)\n",
    "        self.relu = nn.ReLU()\n",
    "\n",
    "    def forward(self,x):\n",
    "        return self.layer_3(self.relu(self.layer_2(self.relu(self.layer_1(x)))))\n",
    "\n",
    "ann_mnist_model = ANNmodelforMNIST()\n",
    "loss_fn = nn.CrossEntropyLoss()\n",
    "\n",
    "optimizer = torch.optim.SGD(params=ann_mnist_model.parameters(),\n",
    "                            lr= 0.005\n",
    "                            )\n",
    "## Building and training the model\n",
    "\n",
    "epochs = 5000\n",
    "torch.manual_seed(42)\n",
    "\n",
    "for epoch in range(epochs):\n",
    "    #call train\n",
    "    ann_mnist_model.train()\n",
    "\n",
    "    # Do the forward pass\n",
    "    y_logits = ann_mnist_model(X_train_tensor_mnist).squeeze()\n",
    "    _,y_pred = torch.max(y_logits.data,1)\n",
    "\n",
    "    #Calculate the loss/accuracy\n",
    "    loss = loss_fn(y_logits,\n",
    "                   y_train_tensor_mnist\n",
    "                   )\n",
    "    acc = accuracy_fn(y_true=y_train_tensor_mnist,\n",
    "                      y_pred=y_pred)\n",
    "\n",
    "    # Optimizer zero grad\n",
    "    optimizer.zero_grad()\n",
    "\n",
    "    # Loss Backward (backpropagation)\n",
    "    loss.backward()\n",
    "\n",
    "    # Optimizer step (gradient descent)\n",
    "    optimizer.step()\n",
    "\n",
    "    ### Testing\n",
    "    ann_mnist_model.eval()\n",
    "    with torch.inference_mode():\n",
    "        # 1. Forward pass\n",
    "        test_logits = ann_mnist_model(X_test_tensor_mnist).squeeze()\n",
    "        _,test_pred = torch.max(test_logits.data,1)\n",
    "\n",
    "        #2. Calculate test loss/acc\n",
    "        test_loss = loss_fn(test_logits,y_test_tensor_mnist)\n",
    "        test_acc = accuracy_fn(y_true=y_test_tensor_mnist,\n",
    "                               y_pred = test_pred)\n",
    "\n",
    "    \n",
    "    # Print out what's happening \n",
    "    \n",
    "    if epoch%1000== 0:\n",
    "        print(epoch)\n",
    "        print(\"Training Loss\",round(float(loss),3), \" Train accuracy\", acc )\n",
    "        print(\"Test Loss: \",round(float(test_loss),3), \" Test accuracy:  \",test_acc)\n"
   ]
  },
  {
   "cell_type": "code",
   "execution_count": 141,
   "metadata": {},
   "outputs": [
    {
     "name": "stdout",
     "output_type": "stream",
     "text": [
      "95.55555555555556\n",
      "for ANN, Confusion Matrix:\n",
      " [[57  0  0  0  1  0  0  1  0  0]\n",
      " [ 0 46  0  0  0  0  2  0  1  1]\n",
      " [ 0  0 59  0  0  0  0  0  1  0]\n",
      " [ 0  0  0 48  0  0  0  0  0  1]\n",
      " [ 0  1  0  0 56  0  0  2  0  0]\n",
      " [ 0  0  0  0  0 54  0  0  0  0]\n",
      " [ 0  0  0  0  0  0 58  0  0  0]\n",
      " [ 0  0  0  0  1  0  0 47  1  1]\n",
      " [ 0  1  0  0  0  2  0  1 42  2]\n",
      " [ 0  0  0  3  0  0  0  1  0 49]]\n",
      "for ANN, Classification Report\n",
      "               precision    recall  f1-score   support\n",
      "\n",
      "           0       1.00      0.97      0.98        59\n",
      "           1       0.96      0.92      0.94        50\n",
      "           2       1.00      0.98      0.99        60\n",
      "           3       0.94      0.98      0.96        49\n",
      "           4       0.97      0.95      0.96        59\n",
      "           5       0.96      1.00      0.98        54\n",
      "           6       0.97      1.00      0.98        58\n",
      "           7       0.90      0.94      0.92        50\n",
      "           8       0.93      0.88      0.90        48\n",
      "           9       0.91      0.92      0.92        53\n",
      "\n",
      "    accuracy                           0.96       540\n",
      "   macro avg       0.95      0.95      0.95       540\n",
      "weighted avg       0.96      0.96      0.96       540\n",
      "\n"
     ]
    }
   ],
   "source": [
    "# Testing the ANN Model\n",
    "test_logits = ann_mnist_model(X_test_tensor_mnist).squeeze()\n",
    "_,y_pred_mnist = torch.max(test_logits.data,1)\n",
    "ann_acc = accuracy_fn(y_true=y_test_tensor_mnist,\n",
    "                               y_pred = y_pred_mnist)\n",
    "print(ann_acc)\n",
    "confusion = confusion_matrix(y_test_mnist, y_pred_mnist)\n",
    "\n",
    "print('for ANN, Confusion Matrix:\\n',confusion)\n",
    "classify=classification_report(y_test_mnist, y_pred_mnist)\n",
    "print('for ANN, Classification Report\\n',classify)\n",
    "\n",
    "ann_f1 = f1_score(y_test_mnist,y_pred_mnist,average='micro')"
   ]
  },
  {
   "cell_type": "markdown",
   "metadata": {},
   "source": [
    "## Comparing the models of MNIST dataset"
   ]
  },
  {
   "cell_type": "code",
   "execution_count": 142,
   "metadata": {},
   "outputs": [
    {
     "data": {
      "image/png": "[encoded data removed]",
      "text/plain": [
       "<Figure size 1296x432 with 1 Axes>"
      ]
     },
     "metadata": {
      "needs_background": "light"
     },
     "output_type": "display_data"
    }
   ],
   "source": [
    "Models = [ 'KNN','Random Forest','Naive Bayes','Decision Tree','SVM','ANN']\n",
    "Accuracy = [knn_best_acc,rf_best_acc,nb_best_acc,dt_best_acc,svm_best_acc,ann_acc]\n",
    "F1Scores = [100*knn_f1,100*rf_f1,100*nb_f1,100*dt_f1,100*svm_f1,100*ann_f1]\n",
    "\n",
    "plt.subplots(figsize=(18,6))\n",
    "plt.plot(Models,Accuracy,color='blue',marker='*',label='Accuracy')\n",
    "plt.plot(Models,F1Scores,color='green',marker='*',label='F1 Score')\n",
    "\n",
    "plt.legend()\n",
    "plt.show()"
   ]
  },
  {
   "cell_type": "markdown",
   "metadata": {},
   "source": [
    "Best models for MNIST are:\n",
    "#### KNN - Accuracy=99.63% , Kfold= 99.05%\n",
    "#### SVM - Accuracy=99.44% , Kfold= 99.22%"
   ]
  }
 ],
 "metadata": {
  "kernelspec": {
   "display_name": "Python 3 (ipykernel)",
   "language": "python",
   "name": "python3"
  },
  "language_info": {
   "codemirror_mode": {
    "name": "ipython",
    "version": 3
   },
   "file_extension": ".py",
   "mimetype": "text/x-python",
   "name": "python",
   "nbconvert_exporter": "python",
   "pygments_lexer": "ipython3",
   "version": "3.10.5"
  }
 },
 "nbformat": 4,
 "nbformat_minor": 2
}
